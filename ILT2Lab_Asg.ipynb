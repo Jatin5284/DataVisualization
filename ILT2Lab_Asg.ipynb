{
 "cells": [
  {
   "cell_type": "code",
   "execution_count": 7,
   "id": "6df7ddbb-27ba-426b-a8e7-8f8eecec3699",
   "metadata": {},
   "outputs": [
    {
     "name": "stdout",
     "output_type": "stream",
     "text": [
      "Mean of each array\n",
      "5.5 30.6 34.0 "
     ]
    }
   ],
   "source": [
    "# 1. How to find the mean of every NumPy array in the given list?\n",
    "\n",
    "import numpy as np\n",
    "arr_list = [\n",
    "np.array([3, 2, 8, 9]),\n",
    "np.array([4, 12, 34, 25, 78]),\n",
    "np.array([23, 12, 67])\n",
    "]\n",
    "\n",
    "for arr in arr_list:\n",
    "    means=np.mean(arr)\n",
    "\n",
    "print(\"Mean of each array\")\n",
    "for arr in arr_list:\n",
    "    means=np.mean(arr)\n",
    "    print(means,end=\" \")"
   ]
  },
  {
   "cell_type": "code",
   "execution_count": 9,
   "id": "ea215fe6-c6f2-4cb2-a221-baaa4486ac4e",
   "metadata": {},
   "outputs": [
    {
     "name": "stdout",
     "output_type": "stream",
     "text": [
      "Printing the original array:\n",
      "[1 2 3 4 5 6 7]\n",
      "\n",
      "Median of the array that contains odd no of elements\n",
      "4.0\n"
     ]
    }
   ],
   "source": [
    "# 2. Compute the median of the flattened NumPy array\n",
    "\n",
    "x_odd = np.array([1, 2, 3, 4, 5, 6, 7])\n",
    "print(\"Printing the original array:\")\n",
    "print(x_odd)\n",
    "print()\n",
    "print(\"Median of the array that contains odd no of elements\")\n",
    "print(np.median(x_odd))"
   ]
  },
  {
   "cell_type": "code",
   "execution_count": 18,
   "id": "c41fe69a-d562-4b77-b0f4-bd59b4671c60",
   "metadata": {},
   "outputs": [
    {
     "name": "stdout",
     "output_type": "stream",
     "text": [
      "arr: [20, 2, 7, 1, 34]\n",
      "Std of arr: 12.576167937809991\n",
      "\n",
      "More precision with float32\n",
      "Std of arr: 12.576168\n",
      "\n",
      "More accuracy with float 64\n",
      "Std of arr: 12.576167937809991\n"
     ]
    }
   ],
   "source": [
    "# 3.Compute the standard deviation of the NumPy array\n",
    "arr = [20, 2, 7, 1, 34]\n",
    "std=np.std(arr)\n",
    "print(\"arr:\",arr)\n",
    "print(\"Std of arr:\",std)\n",
    "print()\n",
    "\n",
    "arr_float32=np.array(arr,dtype=np.float32)\n",
    "std_float32=np.std(arr_float32)\n",
    "print(\"More precision with float32\")\n",
    "print(\"Std of arr:\",std_float32)\n",
    "print()\n",
    "\n",
    "arr_float64=np.array(arr,dtype=np.float64)\n",
    "std_float64=np.std(arr_float64)\n",
    "print(\"More accuracy with float 64\")\n",
    "print(\"Std of arr:\",std_float64)"
   ]
  },
  {
   "cell_type": "code",
   "execution_count": null,
   "id": "9223f28e-d556-48a1-9108-d140c57d5534",
   "metadata": {},
   "outputs": [],
   "source": []
  }
 ],
 "metadata": {
  "kernelspec": {
   "display_name": "Python 3 (ipykernel)",
   "language": "python",
   "name": "python3"
  },
  "language_info": {
   "codemirror_mode": {
    "name": "ipython",
    "version": 3
   },
   "file_extension": ".py",
   "mimetype": "text/x-python",
   "name": "python",
   "nbconvert_exporter": "python",
   "pygments_lexer": "ipython3",
   "version": "3.12.3"
  }
 },
 "nbformat": 4,
 "nbformat_minor": 5
}
