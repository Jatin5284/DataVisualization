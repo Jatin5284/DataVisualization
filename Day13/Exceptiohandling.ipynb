{
 "cells": [
  {
   "cell_type": "code",
   "execution_count": 3,
   "id": "4dacce86-7b5a-4e0d-bc12-c0101d7ca6a2",
   "metadata": {},
   "outputs": [
    {
     "name": "stdout",
     "output_type": "stream",
     "text": [
      "Line 1 \n",
      "Line 2 \n",
      "Line 3 \n",
      "Line 4 \n"
     ]
    },
    {
     "name": "stdin",
     "output_type": "stream",
     "text": [
      "Enter the first number 1\n",
      "Enter the division number 0\n"
     ]
    },
    {
     "name": "stdout",
     "output_type": "stream",
     "text": [
      "division by zero\n",
      "Line 6 \n"
     ]
    }
   ],
   "source": [
    "print(\"Line 1 \")\n",
    "print(\"Line 2 \")\n",
    "print(\"Line 3 \")\n",
    "print(\"Line 4 \")\n",
    "num=int(input(\"Enter the first number\"))\n",
    "num1=int(input(\"Enter the division number\"))\n",
    "try:\n",
    "    print(num/num1)\n",
    "    print(\"Line 5 \")\n",
    "except ZeroDivisionError as e:\n",
    "    print(e)\n",
    "print(\"Line 6 \")"
   ]
  },
  {
   "cell_type": "code",
   "execution_count": 6,
   "id": "ec1aba5d-25dc-47a3-abfc-95f5cad542fe",
   "metadata": {},
   "outputs": [
    {
     "name": "stdout",
     "output_type": "stream",
     "text": [
      "Line 1 \n",
      "Line 2 \n",
      "Line 3 \n",
      "Line 4 \n"
     ]
    },
    {
     "name": "stdin",
     "output_type": "stream",
     "text": [
      "Enter the first number 4\n",
      "Enter the division number 5\n"
     ]
    },
    {
     "name": "stdout",
     "output_type": "stream",
     "text": [
      "0.8\n",
      "[Errno 2] No such file or directory: 'anudip.txt'\n",
      "Line 6 \n"
     ]
    }
   ],
   "source": [
    "# Multiple Exception\n",
    "print(\"Line 1 \")\n",
    "print(\"Line 2 \")\n",
    "print(\"Line 3 \")\n",
    "print(\"Line 4 \")\n",
    "num=int(input(\"Enter the first number\"))\n",
    "num1=int(input(\"Enter the division number\"))\n",
    "try:\n",
    "    print(num/num1)\n",
    "    open(\"anudip.txt\")\n",
    "except ZeroDivisionError as e:\n",
    "    print(e)\n",
    "except FileNotFoundError as e:\n",
    "    print(e)\n",
    "print(\"Line 6 \")"
   ]
  },
  {
   "cell_type": "code",
   "execution_count": 9,
   "id": "8e87cb11-5d5a-43c1-9ac2-e2c0b8b4ae56",
   "metadata": {},
   "outputs": [
    {
     "name": "stdout",
     "output_type": "stream",
     "text": [
      "Line 1 \n",
      "Line 2 \n",
      "Line 3 \n",
      "Line 4 \n"
     ]
    },
    {
     "name": "stdin",
     "output_type": "stream",
     "text": [
      "Enter the first number 1\n",
      "Enter the division number 0\n"
     ]
    },
    {
     "name": "stdout",
     "output_type": "stream",
     "text": [
      "Something went wrong\n",
      "Line 6 \n"
     ]
    }
   ],
   "source": [
    "# Multiple Exception handle in one exception\n",
    "# Multiple Exception\n",
    "print(\"Line 1 \")\n",
    "print(\"Line 2 \")\n",
    "print(\"Line 3 \")\n",
    "print(\"Line 4 \")\n",
    "num=int(input(\"Enter the first number\"))\n",
    "num1=int(input(\"Enter the division number\"))\n",
    "try:\n",
    "    print(num/num1)\n",
    "    open(\"anudip.txt\")\n",
    "except (ZeroDivisionError,FileNotFoundError) as e:\n",
    "    print(\"Something went wrong\")\n",
    "print(\"Line 6 \")"
   ]
  },
  {
   "cell_type": "code",
   "execution_count": 10,
   "id": "b8bd4d2b-753f-4cfe-bca6-67b09a11783b",
   "metadata": {},
   "outputs": [
    {
     "name": "stdout",
     "output_type": "stream",
     "text": [
      "Line 1 \n",
      "Line 2 \n",
      "Line 3 \n",
      "Line 4 \n"
     ]
    },
    {
     "name": "stdin",
     "output_type": "stream",
     "text": [
      "Enter the first number 1\n",
      "Enter the division number 3\n"
     ]
    },
    {
     "name": "stdout",
     "output_type": "stream",
     "text": [
      "0.3333333333333333\n",
      "Something went wrong\n",
      "Line 6 \n"
     ]
    }
   ],
   "source": [
    "# Multiple Exception handle in one exception\n",
    "# Multiple Exception\n",
    "print(\"Line 1 \")\n",
    "print(\"Line 2 \")\n",
    "print(\"Line 3 \")\n",
    "print(\"Line 4 \")\n",
    "num=int(input(\"Enter the first number\"))\n",
    "num1=int(input(\"Enter the division number\"))\n",
    "try:\n",
    "    print(num/num1)\n",
    "    open(\"anudip.txt\")\n",
    "except:\n",
    "    print(\"Something went wrong\")\n",
    "print(\"Line 6 \")"
   ]
  },
  {
   "cell_type": "code",
   "execution_count": 14,
   "id": "72257c9b-7730-46da-b167-4ab525fd63e3",
   "metadata": {},
   "outputs": [
    {
     "name": "stdout",
     "output_type": "stream",
     "text": [
      "Line 1 \n",
      "Line 2 \n",
      "Line 3 \n",
      "Line 4 \n"
     ]
    },
    {
     "name": "stdin",
     "output_type": "stream",
     "text": [
      "Enter the first number 50\n",
      "Enter the division number 5\n"
     ]
    },
    {
     "name": "stdout",
     "output_type": "stream",
     "text": [
      "10.0\n",
      "When exception does not occur\n",
      "Run always at the end\n",
      "Line 6 \n"
     ]
    }
   ],
   "source": [
    "# Multiple Exception handle in one exception\n",
    "# Multiple Exception\n",
    "print(\"Line 1 \")\n",
    "print(\"Line 2 \")\n",
    "print(\"Line 3 \")\n",
    "print(\"Line 4 \")\n",
    "num=int(input(\"Enter the first number\"))\n",
    "num1=int(input(\"Enter the division number\"))\n",
    "try:\n",
    "    print(num/num1)\n",
    "except:\n",
    "    print(\"Something went wrong\")\n",
    "else:\n",
    "    print(\"When exception does not occur\")\n",
    "finally:\n",
    "    print(\"Run always at the end\")\n",
    "print(\"Line 6 \")"
   ]
  },
  {
   "cell_type": "code",
   "execution_count": null,
   "id": "24a6de46-aede-429b-8099-547899b6d1e1",
   "metadata": {},
   "outputs": [],
   "source": []
  }
 ],
 "metadata": {
  "kernelspec": {
   "display_name": "Python 3 (ipykernel)",
   "language": "python",
   "name": "python3"
  },
  "language_info": {
   "codemirror_mode": {
    "name": "ipython",
    "version": 3
   },
   "file_extension": ".py",
   "mimetype": "text/x-python",
   "name": "python",
   "nbconvert_exporter": "python",
   "pygments_lexer": "ipython3",
   "version": "3.12.3"
  }
 },
 "nbformat": 4,
 "nbformat_minor": 5
}
