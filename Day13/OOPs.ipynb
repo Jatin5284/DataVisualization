{
 "cells": [
  {
   "cell_type": "code",
   "execution_count": 6,
   "id": "48f35ad4-37ff-481d-b0b5-12847109d155",
   "metadata": {},
   "outputs": [
    {
     "name": "stdout",
     "output_type": "stream",
     "text": [
      "Study 3 hour\n"
     ]
    }
   ],
   "source": [
    "class Student:\n",
    "    name=\"xyz\"\n",
    "    age=0\n",
    "    def study(self):\n",
    "        print(\"Study 3 hour\")\n",
    "        #self.sleep() # self is used to call the method and variable in same class\n",
    "    \n",
    "    def sleep(self):\n",
    "        print(\"Sleep 1 hour\")\n",
    "        study() # it given error bcz self is not used\n",
    "obj=Student()\n",
    "obj.study() # here not give any error bcz we not to call sleep\n",
    "#obj.sleep() # it give error\n"
   ]
  },
  {
   "cell_type": "code",
   "execution_count": 7,
   "id": "de5a88b2-7eb9-4793-9a16-00b24c737267",
   "metadata": {},
   "outputs": [
    {
     "name": "stdout",
     "output_type": "stream",
     "text": [
      "This is show method\n"
     ]
    }
   ],
   "source": [
    "class A:\n",
    "    def show(self):\n",
    "        print(\"This is show method\")\n",
    "class B(A):\n",
    "    def demo(self):\n",
    "        print(\"This is demo method\")\n",
    "class C(A):\n",
    "    pass\n",
    "class D(B,C):\n",
    "    pass\n",
    "obj=C()\n",
    "obj.show()\n",
    "#obj.demo() #it give error bcz it does not inherit"
   ]
  },
  {
   "cell_type": "code",
   "execution_count": 12,
   "id": "a4677671-4dfd-495b-9cce-92456f0908eb",
   "metadata": {},
   "outputs": [
    {
     "name": "stdout",
     "output_type": "stream",
     "text": [
      "Method Overloading\n",
      "60\n",
      "30\n",
      "Method Overloading\n",
      "I can fly\n",
      "I cannot fly\n"
     ]
    }
   ],
   "source": [
    "# PolyMorphism\n",
    "\n",
    "# Method Overloading\n",
    "def sum(a,b,c=0):\n",
    "    print(a+b+c)\n",
    "print(\"Method Overloading\")\n",
    "sum(10,20,30)\n",
    "sum(10,20)\n",
    "\n",
    "# Method Overriding\n",
    "class Bird:\n",
    "    def intro(self):\n",
    "        print(\"There are many types of bird.\")\n",
    "    def flight(self):\n",
    "        print(\"Most of the birds can fly but some cannot\")\n",
    "\n",
    "class sparrow(Bird):\n",
    "    def flight(self):\n",
    "        print(\"I can fly\")\n",
    "class ostrich(Bird):\n",
    "    def flight(self):\n",
    "        print(\"I cannot fly\")\n",
    "\n",
    "print(\"Method Overloading\")\n",
    "obj=sparrow()\n",
    "obj.flight()\n",
    "\n",
    "obj1=ostrich()\n",
    "obj1.flight()"
   ]
  },
  {
   "cell_type": "code",
   "execution_count": 17,
   "id": "43a96156-1737-4195-8032-f0e87e689b6a",
   "metadata": {},
   "outputs": [
    {
     "name": "stdout",
     "output_type": "stream",
     "text": [
      "This is show method abc\n"
     ]
    }
   ],
   "source": [
    "# Encapsulation\n",
    "\n",
    "class A:\n",
    "    __name=\"abc\" # double underscore(__)->private, single(_)->protected\n",
    "    def setName(self,name):\n",
    "        self.__name=name\n",
    "    def getName(self):\n",
    "        return self.__name\n",
    "\n",
    "class B(A):\n",
    "    def show(self):\n",
    "        print(\"This is show method\",self.getName())\n",
    "\n",
    "obj=B()\n",
    "obj.show()"
   ]
  },
  {
   "cell_type": "code",
   "execution_count": null,
   "id": "115998b8-eca2-425a-8e59-26f085a6ee73",
   "metadata": {},
   "outputs": [],
   "source": []
  }
 ],
 "metadata": {
  "kernelspec": {
   "display_name": "Python 3 (ipykernel)",
   "language": "python",
   "name": "python3"
  },
  "language_info": {
   "codemirror_mode": {
    "name": "ipython",
    "version": 3
   },
   "file_extension": ".py",
   "mimetype": "text/x-python",
   "name": "python",
   "nbconvert_exporter": "python",
   "pygments_lexer": "ipython3",
   "version": "3.12.3"
  }
 },
 "nbformat": 4,
 "nbformat_minor": 5
}
