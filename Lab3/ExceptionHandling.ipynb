{
 "cells": [
  {
   "cell_type": "code",
   "execution_count": 1,
   "id": "e59e92aa-ca38-4538-9b0f-a3608c40b116",
   "metadata": {},
   "outputs": [
    {
     "name": "stdin",
     "output_type": "stream",
     "text": [
      "Enter the first number 5\n",
      "Enter the division number 0\n"
     ]
    },
    {
     "name": "stdout",
     "output_type": "stream",
     "text": [
      "division by zero\n"
     ]
    }
   ],
   "source": [
    "# 1) Write a python Program to handle a ZeroDivsionError exception when dividing a number by zero\n",
    "\n",
    "\n",
    "num=int(input(\"Enter the first number\"))\n",
    "num1=int(input(\"Enter the division number\"))\n",
    "try:\n",
    "    print(num/num1)\n",
    "except ZeroDivisionError as e:\n",
    "    print(e)"
   ]
  },
  {
   "cell_type": "code",
   "execution_count": 8,
   "id": "34db37f4-2ba9-44db-b54b-0aa4add05732",
   "metadata": {},
   "outputs": [
    {
     "name": "stdin",
     "output_type": "stream",
     "text": [
      "Enter the first number jatin\n"
     ]
    },
    {
     "name": "stdout",
     "output_type": "stream",
     "text": [
      "ValueError invalid literal for int() with base 10: 'jatin'\n"
     ]
    }
   ],
   "source": [
    "# 2) Write a python program that prompts the user to input an integer and raises a ValueError exception if the \n",
    "#input is not a valid integer\n",
    "\n",
    "\n",
    "try:\n",
    "    num=int(input(\"Enter the first number\"))\n",
    "except ValueError as e:\n",
    "    print(\"ValueError\",e)"
   ]
  },
  {
   "cell_type": "code",
   "execution_count": 9,
   "id": "c62a1073-b18d-48d6-8778-32acc981316f",
   "metadata": {},
   "outputs": [
    {
     "name": "stdout",
     "output_type": "stream",
     "text": [
      "[Errno 2] No such file or directory: 'anudip.txt'\n"
     ]
    }
   ],
   "source": [
    "# 3) Write a python program that opens a file and handles a FileNotFoundError exception if the file does not exist\n",
    "\n",
    "\n",
    "try:\n",
    "    open(\"anudip.txt\")\n",
    "    print(e)\n",
    "except FileNotFoundError as e:\n",
    "    print(e)"
   ]
  },
  {
   "cell_type": "code",
   "execution_count": 3,
   "id": "cda9a0b1-2042-4f59-8339-2b7b6aa47dbe",
   "metadata": {},
   "outputs": [
    {
     "name": "stdin",
     "output_type": "stream",
     "text": [
      "Enter the first number jatin\n",
      "Enter the division number bansal\n"
     ]
    },
    {
     "name": "stdout",
     "output_type": "stream",
     "text": [
      "unsupported operand type(s) for /: 'str' and 'str'\n"
     ]
    }
   ],
   "source": [
    "# 4)Write a python program that prompts the user to input two numbers and raises a TypeError exception\n",
    "num=input(\"Enter the first number\")\n",
    "num1=input(\"Enter the division number\")\n",
    "try:\n",
    "    print(num/num1)\n",
    "except TypeError as e:\n",
    "    print(\"Ty\",e)"
   ]
  },
  {
   "cell_type": "code",
   "execution_count": null,
   "id": "30a938ea-a180-4645-9921-98c5a7aab121",
   "metadata": {},
   "outputs": [],
   "source": []
  }
 ],
 "metadata": {
  "kernelspec": {
   "display_name": "Python 3 (ipykernel)",
   "language": "python",
   "name": "python3"
  },
  "language_info": {
   "codemirror_mode": {
    "name": "ipython",
    "version": 3
   },
   "file_extension": ".py",
   "mimetype": "text/x-python",
   "name": "python",
   "nbconvert_exporter": "python",
   "pygments_lexer": "ipython3",
   "version": "3.12.3"
  }
 },
 "nbformat": 4,
 "nbformat_minor": 5
}
