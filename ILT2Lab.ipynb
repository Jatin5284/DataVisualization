{
 "cells": [
  {
   "cell_type": "code",
   "execution_count": 1,
   "id": "d570aab4-07a8-4754-9af4-03d2bb444727",
   "metadata": {},
   "outputs": [
    {
     "name": "stdout",
     "output_type": "stream",
     "text": [
      "Hot Days:\n",
      "Day Temperature(C)\n",
      "3\t36.8\n",
      "6\t38.7\n",
      "10\t37.2\n",
      "\n",
      "Cold Days:\n",
      "Day Temperature(C)\n",
      "11\t4.0\n",
      "12\t-4.0\n",
      "13\t-12.0\n"
     ]
    }
   ],
   "source": [
    "# 1. Suppose you have a dataset containing daily temperature readings for a city, and you\n",
    "# want to identify days with extreme temperature conditions. Find days where the\n",
    "# temperature either exceeded 35 degrees Celsius (hot day) or dropped below 5 degrees\n",
    "# Celsius (cold day).\n",
    "\n",
    "import numpy as np\n",
    "temperatures = np.array([32.5, 34.2, 36.8, 29.3, 31.0, 38.7, 23.1, 18.5, 22.8, 37.2,4.0,-4.0,-12.0])\n",
    "hot_days=np.where(temperatures>35)\n",
    "cold_days=np.where(temperatures<5)\n",
    "\n",
    "print(\"Hot Days:\")\n",
    "print(\"Day\", \"Temperature(C)\")\n",
    "for day in hot_days[0]:\n",
    "    print(day+1, temperatures[day], sep='\\t')\n",
    "\n",
    "print()\n",
    "print(\"Cold Days:\")\n",
    "print(\"Day\", \"Temperature(C)\")\n",
    "for day in cold_days[0]:\n",
    "    print(day+1, temperatures[day],sep='\\t')"
   ]
  },
  {
   "cell_type": "code",
   "execution_count": 2,
   "id": "8e29556b-879d-4815-8293-e6f05036654c",
   "metadata": {},
   "outputs": [
    {
     "name": "stdout",
     "output_type": "stream",
     "text": [
      "Quater  0 Sales(in thousand Dollars):\n",
      "[120 135 148]\n",
      "Quater  1 Sales(in thousand Dollars):\n",
      "[165 180 155]\n",
      "Quater  2 Sales(in thousand Dollars):\n",
      "[168 190 205]\n"
     ]
    }
   ],
   "source": [
    "# 2. Suppose you have a dataset containing monthly sales data for a company, and you\n",
    "# want to split this data into quarterly reports for analysis and reporting purposes.\n",
    "\n",
    "monthly_sales = np.array([120, 135, 148, 165, 180, 155, 168, 190, 205, 198, 210, 225])\n",
    "\n",
    "quarterly_sales = np.split(monthly_sales, 4)\n",
    "n=len(quarterly_sales)\n",
    "for i in range(0,n-1,1):\n",
    "    print(\"Quater \",i ,\"Sales(in thousand Dollars):\")\n",
    "    print(quarterly_sales[i])"
   ]
  },
  {
   "cell_type": "code",
   "execution_count": 3,
   "id": "87f8a2bc-dd0a-42ab-a9d0-0acdaf7bc31d",
   "metadata": {},
   "outputs": [
    {
     "name": "stdout",
     "output_type": "stream",
     "text": [
      "Active Customers (Last Purchase<=30 days)\n",
      "[101 102 103 104 105]\n",
      "\n",
      "Inactive Customers (Last Purchase>30 days)\n",
      "[106 107 108 109 110]\n"
     ]
    }
   ],
   "source": [
    "# 3. Suppose you have a dataset containing customer data, and you want to split this data\n",
    "# into two groups: one group for customers who made a purchase in the last 30 days and\n",
    "# another group for customers who haven't made a purchase in the last 30 days.\n",
    "\n",
    "customer_ids = np.array([101, 102, 103, 104, 105, 106, 107, 108, 109, 110])\n",
    "last_purchase_days_ago = np.array([5, 15, 20, 25, 30, 35, 40, 45, 50, 55])\n",
    "\n",
    "recent_customers = customer_ids[last_purchase_days_ago <= 30]\n",
    "old_customers = customer_ids[last_purchase_days_ago > 30]\n",
    "\n",
    "print(\"Active Customers (Last Purchase<=30 days)\")\n",
    "print(recent_customers)\n",
    "print()\n",
    "print(\"Inactive Customers (Last Purchase>30 days)\")\n",
    "print(old_customers)"
   ]
  },
  {
   "cell_type": "code",
   "execution_count": 5,
   "id": "2893f480-391b-47a1-bf38-57d92c4142dc",
   "metadata": {},
   "outputs": [
    {
     "name": "stdout",
     "output_type": "stream",
     "text": [
      "Combined Employee data\n",
      "Employee id 101 Name: John Doe Type Full-Time Salary 55000\n",
      "Employee id 102 Name: Jane Smith Type Full-Time Salary 60000\n",
      "Employee id 103 Name: Mike Johnson Type Full-Time Salary 52000\n",
      "Employee id 201 Name: Alice Brown Type Part-Time Salary 25000\n",
      "Employee id 202 Name: Bob Wilson Type Part-Time Salary 28000\n",
      "Employee id 203 Name: Emily Davis Type Part-Time Salary 22000\n"
     ]
    }
   ],
   "source": [
    "# 4.Suppose you have two sets of employee data—one containing information about\n",
    "# full-time employees and another containing information about part-time employees. You\n",
    "# want to combine this data to create a comprehensive employee dataset for HR analysis.\n",
    "\n",
    "# Employee data for full-time employees\n",
    "full_time_employees = np.array([\n",
    "[101, 'John Doe', 'Full-Time', 55000],\n",
    "[102, 'Jane Smith', 'Full-Time', 60000],\n",
    "[103, 'Mike Johnson', 'Full-Time', 52000]\n",
    "])\n",
    "\n",
    "# Employee data for part-time employees\n",
    "part_time_employees = np.array([\n",
    "[201, 'Alice Brown', 'Part-Time', 25000],\n",
    "[202, 'Bob Wilson', 'Part-Time', 28000],\n",
    "[203, 'Emily Davis', 'Part-Time', 22000]\n",
    "])\n",
    "\n",
    "combined_employees = np.vstack((full_time_employees, part_time_employees))\n",
    "n=len(combined_employees)\n",
    "\n",
    "print(\"Combined Employee data\")\n",
    "for i in range(0,n,1):\n",
    "    print(\"Employee id\",combined_employees[i][0],\"Name:\",combined_employees[i][1],\"Type\",combined_employees[i][2],\"Salary\",combined_employees[i][3])"
   ]
  },
  {
   "cell_type": "code",
   "execution_count": null,
   "id": "c9e40df7-8d34-42ab-a51f-84e58432f15c",
   "metadata": {},
   "outputs": [],
   "source": []
  }
 ],
 "metadata": {
  "kernelspec": {
   "display_name": "Python 3 (ipykernel)",
   "language": "python",
   "name": "python3"
  },
  "language_info": {
   "codemirror_mode": {
    "name": "ipython",
    "version": 3
   },
   "file_extension": ".py",
   "mimetype": "text/x-python",
   "name": "python",
   "nbconvert_exporter": "python",
   "pygments_lexer": "ipython3",
   "version": "3.12.3"
  }
 },
 "nbformat": 4,
 "nbformat_minor": 5
}
