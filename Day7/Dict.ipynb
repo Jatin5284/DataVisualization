{
 "cells": [
  {
   "cell_type": "code",
   "execution_count": 1,
   "id": "b6b6ea5d-432b-42f1-a031-88085e91c1e6",
   "metadata": {},
   "outputs": [
    {
     "name": "stdout",
     "output_type": "stream",
     "text": [
      "{'Name': 'Akshay', 'Age': 15, 'Gender': 'Male'}\n"
     ]
    }
   ],
   "source": [
    "my_dict={'Name':'Akshay','Age':15,'Gender':'Male'}\n",
    "print(my_dict)"
   ]
  },
  {
   "cell_type": "code",
   "execution_count": 2,
   "id": "37166a92-e652-4d51-8101-61869c8f6f3f",
   "metadata": {},
   "outputs": [
    {
     "ename": "TypeError",
     "evalue": "pop expected at least 1 argument, got 0",
     "output_type": "error",
     "traceback": [
      "\u001b[1;31m---------------------------------------------------------------------------\u001b[0m",
      "\u001b[1;31mTypeError\u001b[0m                                 Traceback (most recent call last)",
      "Cell \u001b[1;32mIn[2], line 1\u001b[0m\n\u001b[1;32m----> 1\u001b[0m \u001b[43mmy_dict\u001b[49m\u001b[38;5;241;43m.\u001b[39;49m\u001b[43mpop\u001b[49m\u001b[43m(\u001b[49m\u001b[43m)\u001b[49m\n\u001b[0;32m      2\u001b[0m \u001b[38;5;28mprint\u001b[39m(my_dict)\n",
      "\u001b[1;31mTypeError\u001b[0m: pop expected at least 1 argument, got 0"
     ]
    }
   ],
   "source": [
    "my_dict.pop()\n",
    "print(my_dict)"
   ]
  },
  {
   "cell_type": "code",
   "execution_count": null,
   "id": "46a86052-be88-45e5-b647-1df2c062c628",
   "metadata": {},
   "outputs": [],
   "source": [
    "my_dict.pop('Name')\n",
    "print(my_dict)"
   ]
  },
  {
   "cell_type": "code",
   "execution_count": null,
   "id": "196fa1d6-e592-49ad-bda4-5c68d89e23b5",
   "metadata": {},
   "outputs": [],
   "source": [
    "# To fin all the keys\n",
    "elementKeys=my_dict.keys()\n",
    "print(elementKeys)"
   ]
  },
  {
   "cell_type": "code",
   "execution_count": null,
   "id": "4d843ec6-0322-4209-a2b5-caa0b5ffed70",
   "metadata": {},
   "outputs": [],
   "source": [
    "for key in my_dict:\n",
    "    print(key)"
   ]
  },
  {
   "cell_type": "code",
   "execution_count": null,
   "id": "11bf488a-0c37-43a2-80ff-1b73ce79b6c3",
   "metadata": {},
   "outputs": [],
   "source": [
    "for key in my_dict:\n",
    "    print(\"Key:\",key,\"Values:\",my_dict[key])"
   ]
  },
  {
   "cell_type": "code",
   "execution_count": 3,
   "id": "b0afe4f5-8629-4d32-abcb-42298bfbdb5d",
   "metadata": {},
   "outputs": [
    {
     "name": "stdout",
     "output_type": "stream",
     "text": [
      "dict_values(['Akshay', 15, 'Male'])\n"
     ]
    }
   ],
   "source": [
    "values=my_dict.values()\n",
    "print(values)"
   ]
  },
  {
   "cell_type": "code",
   "execution_count": null,
   "id": "9aa19c4e-f01c-480f-8782-246b6b5999ab",
   "metadata": {},
   "outputs": [],
   "source": []
  }
 ],
 "metadata": {
  "kernelspec": {
   "display_name": "Python 3 (ipykernel)",
   "language": "python",
   "name": "python3"
  },
  "language_info": {
   "codemirror_mode": {
    "name": "ipython",
    "version": 3
   },
   "file_extension": ".py",
   "mimetype": "text/x-python",
   "name": "python",
   "nbconvert_exporter": "python",
   "pygments_lexer": "ipython3",
   "version": "3.12.3"
  }
 },
 "nbformat": 4,
 "nbformat_minor": 5
}
