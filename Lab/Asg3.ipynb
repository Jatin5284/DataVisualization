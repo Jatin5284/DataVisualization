{
 "cells": [
  {
   "cell_type": "code",
   "execution_count": 1,
   "id": "16f7f61e-ebb9-419a-ba85-de3d3fcfd495",
   "metadata": {},
   "outputs": [
    {
     "name": "stdout",
     "output_type": "stream",
     "text": [
      "Chars = 8 Digits = 3 Symbols = 4\n"
     ]
    }
   ],
   "source": [
    "# Write a Python program to Count all letters, digits, and special\n",
    "# symbols from the given string\n",
    "# Input = “P@#yn26at^&i5ve”\n",
    "# Output: Chars = 8 Digits = 3 Symbol = 4\n",
    "def count_elements(text):\n",
    "    chars = 0\n",
    "    digits = 0\n",
    "    symbols = 0\n",
    "\n",
    "    for char in text:\n",
    "        if char.isalpha():\n",
    "            chars += 1\n",
    "        elif char.isdigit():\n",
    "            digits += 1\n",
    "        else:\n",
    "            symbols += 1\n",
    "\n",
    "    return chars, digits, symbols\n",
    "\n",
    "# Given text\n",
    "text = \"P@#yn26at^&i5ve\"\n",
    "\n",
    "# Count characters, digits, and symbols\n",
    "chars, digits, symbols = count_elements(text)\n",
    "\n",
    "# Display the counts\n",
    "print(f\"Chars = {chars} Digits = {digits} Symbols = {symbols}\")\n"
   ]
  },
  {
   "cell_type": "code",
   "execution_count": 2,
   "id": "d34fa8f1-9172-42a3-ae74-8c0bb17bb247",
   "metadata": {},
   "outputs": [
    {
     "name": "stdout",
     "output_type": "stream",
     "text": [
      "Output: String and Function\n"
     ]
    }
   ],
   "source": [
    "# 2. Write a Python program to remove duplicate characters of a given\n",
    "# string.\n",
    "# Input = “String and String Function”\n",
    "# Output: String and Function\n",
    "def remove_duplicate_words(text):\n",
    "    words = text.split()\n",
    "    seen = set()\n",
    "    result = []\n",
    "\n",
    "    for word in words:\n",
    "        if word not in seen:\n",
    "            seen.add(word)\n",
    "            result.append(word)\n",
    "\n",
    "    return ' '.join(result)\n",
    "\n",
    "# Given text\n",
    "text = \"String and String Function\"\n",
    "\n",
    "# Remove duplicate words\n",
    "output = remove_duplicate_words(text)\n",
    "\n",
    "# Display the result\n",
    "print(\"Output:\", output)\n"
   ]
  },
  {
   "cell_type": "code",
   "execution_count": 3,
   "id": "5f5481f2-873e-4089-a16e-f2a5371223dc",
   "metadata": {},
   "outputs": [
    {
     "name": "stdout",
     "output_type": "stream",
     "text": [
      "UpperCase : 5\n",
      "LowerCase : 18\n",
      "NumberCase : 5\n",
      "SpecialCase : 3\n"
     ]
    }
   ],
   "source": [
    "# 3. Write a Python program to count Uppercase, Lowercase, special\n",
    "# character and numeric values in a given string\n",
    "# Input = “Hell0 W0rld ! 123 * # welcome to pYtHoN”\n",
    "# Output:\n",
    "# UpperCase : 5\n",
    "# LowerCase : 18\n",
    "# NumberCase : 5\n",
    "# SpecialCase : 1\n",
    "def count_char_types(text):\n",
    "    uppercase_count = 0\n",
    "    lowercase_count = 0\n",
    "    number_count = 0\n",
    "    special_count = 0\n",
    "\n",
    "    for char in text:\n",
    "        if char.isupper():\n",
    "            uppercase_count += 1\n",
    "        elif char.islower():\n",
    "            lowercase_count += 1\n",
    "        elif char.isdigit():\n",
    "            number_count += 1\n",
    "        elif not char.isspace():  # Counting special characters but ignoring spaces\n",
    "            special_count += 1\n",
    "\n",
    "    return uppercase_count, lowercase_count, number_count, special_count\n",
    "\n",
    "# Given text\n",
    "text = \"Hell0 W0rld ! 123 * # welcome to pYtHoN\"\n",
    "\n",
    "# Count types of characters\n",
    "uppercase_count, lowercase_count, number_count, special_count = count_char_types(text)\n",
    "\n",
    "# Display the results\n",
    "print(f\"UpperCase : {uppercase_count}\")\n",
    "print(f\"LowerCase : {lowercase_count}\")\n",
    "print(f\"NumberCase : {number_count}\")\n",
    "print(f\"SpecialCase : {special_count}\")\n"
   ]
  },
  {
   "cell_type": "code",
   "execution_count": 4,
   "id": "5cbdba88-55c6-45cc-acee-65ea3970ef29",
   "metadata": {},
   "outputs": [
    {
     "name": "stdout",
     "output_type": "stream",
     "text": [
      "Total vowels are: 8\n"
     ]
    }
   ],
   "source": [
    "# 4. Write a Python Count vowels in a string\n",
    "# input= “Welcome to Python Assignment”\n",
    "# Output: Total vowels are: 8\n",
    "def count_vowels(text):\n",
    "    vowels = \"aeiouAEIOU\"\n",
    "    vowel_count = 0\n",
    "    \n",
    "    for char in text:\n",
    "        if char in vowels:\n",
    "            vowel_count += 1\n",
    "\n",
    "    return vowel_count\n",
    "\n",
    "# Given text\n",
    "text = \"Welcome to Python Assignment\"\n",
    "\n",
    "# Count vowels\n",
    "total_vowels = count_vowels(text)\n",
    "\n",
    "# Display the result\n",
    "print(f\"Total vowels are: {total_vowels}\")\n"
   ]
  },
  {
   "cell_type": "code",
   "execution_count": null,
   "id": "ad64f68f-625c-4043-a00d-c477b60af0a3",
   "metadata": {},
   "outputs": [],
   "source": []
  }
 ],
 "metadata": {
  "kernelspec": {
   "display_name": "Python 3 (ipykernel)",
   "language": "python",
   "name": "python3"
  },
  "language_info": {
   "codemirror_mode": {
    "name": "ipython",
    "version": 3
   },
   "file_extension": ".py",
   "mimetype": "text/x-python",
   "name": "python",
   "nbconvert_exporter": "python",
   "pygments_lexer": "ipython3",
   "version": "3.12.3"
  }
 },
 "nbformat": 4,
 "nbformat_minor": 5
}
