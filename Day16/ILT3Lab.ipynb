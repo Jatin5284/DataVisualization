{
 "cells": [
  {
   "cell_type": "code",
   "execution_count": 1,
   "id": "35c0f2c4-f273-4670-b543-d34992170283",
   "metadata": {},
   "outputs": [
    {
     "name": "stdout",
     "output_type": "stream",
     "text": [
      "Total revenue: [ 950 1300 1500 1150]\n"
     ]
    }
   ],
   "source": [
    "# 1) Calculate the total revenue by the two product categories in a store\n",
    "\n",
    "import numpy as np\n",
    "cat1=np.array([500,600,700,550])\n",
    "cat2=np.array([450,700,800,600])\n",
    "\n",
    "total_revenue=cat1+cat2\n",
    "print(\"Total revenue:\",total_revenue)"
   ]
  },
  {
   "cell_type": "code",
   "execution_count": 2,
   "id": "33db697a-b889-44c4-83bd-80726820720b",
   "metadata": {},
   "outputs": [
    {
     "name": "stdout",
     "output_type": "stream",
     "text": [
      "Profit is: [6000 7000 6500 5700]\n"
     ]
    }
   ],
   "source": [
    "# 2) Calculate the profit made by the company\n",
    "revenue=np.array([10000,12000,11000,10500])\n",
    "expenses=np.array([4000,5000,4500,4800])\n",
    "\n",
    "profit=revenue-expenses\n",
    "print(\"Profit is:\",profit)"
   ]
  },
  {
   "cell_type": "code",
   "execution_count": 3,
   "id": "7994c8b5-f8f4-4b5c-8291-7a4fd6a239f2",
   "metadata": {},
   "outputs": [
    {
     "name": "stdout",
     "output_type": "stream",
     "text": [
      "Out of Stock products\n",
      "[0 0 0]\n"
     ]
    }
   ],
   "source": [
    "# 3) Determine which products in a store are out of stock (quantity is 0)\n",
    "inventory=np.array([10,0,5,0,20,0])\n",
    "print(\"Out of Stock products\")\n",
    "print(inventory[inventory==0])\n"
   ]
  },
  {
   "cell_type": "code",
   "execution_count": 4,
   "id": "440a0a6e-72f5-4373-ba23-b61c9e6a9f6b",
   "metadata": {},
   "outputs": [
    {
     "name": "stdout",
     "output_type": "stream",
     "text": [
      "Total Cost of items\n",
      "[20. 15. 32. 12.]\n"
     ]
    }
   ],
   "source": [
    "# 4) Calculate the cost of items in a shopping art considering the quantity \n",
    "\n",
    "quantity=np.array([2,3,4,1])\n",
    "price=np.array([10.0,5.0,8.0,12.0])\n",
    "\n",
    "print(\"Total Cost of items\")\n",
    "print(quantity*price)"
   ]
  },
  {
   "cell_type": "code",
   "execution_count": null,
   "id": "e03f5624-dbfe-4bef-8f72-5c88064a1b9a",
   "metadata": {},
   "outputs": [],
   "source": []
  }
 ],
 "metadata": {
  "kernelspec": {
   "display_name": "Python 3 (ipykernel)",
   "language": "python",
   "name": "python3"
  },
  "language_info": {
   "codemirror_mode": {
    "name": "ipython",
    "version": 3
   },
   "file_extension": ".py",
   "mimetype": "text/x-python",
   "name": "python",
   "nbconvert_exporter": "python",
   "pygments_lexer": "ipython3",
   "version": "3.12.3"
  }
 },
 "nbformat": 4,
 "nbformat_minor": 5
}
