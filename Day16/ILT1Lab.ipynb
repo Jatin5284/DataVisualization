{
 "cells": [
  {
   "cell_type": "code",
   "execution_count": 1,
   "id": "1221dfbd-1b72-4097-a14f-1d2c24c5b0d7",
   "metadata": {},
   "outputs": [
    {
     "name": "stdout",
     "output_type": "stream",
     "text": [
      "[1 2 3 4 5]\n"
     ]
    }
   ],
   "source": [
    "# 1) Convert the below list into numpy array then display array\n",
    "\n",
    "import numpy as np\n",
    "\n",
    "my_list=[1,2,3,4,5]\n",
    "arr=np.array(my_list)\n",
    "print(arr)"
   ]
  },
  {
   "cell_type": "code",
   "execution_count": 2,
   "id": "ed28ea03-0d60-463c-906d-99f4e429b22a",
   "metadata": {},
   "outputs": [
    {
     "name": "stdout",
     "output_type": "stream",
     "text": [
      "Array: [1 2 3 4 5]\n",
      "First  element: 1\n",
      "Last  element: 5\n",
      "Array after doubling each element\n",
      "[ 2  4  6  8 10]\n"
     ]
    }
   ],
   "source": [
    "# 2) Convert the below list into a numpy array then display the array then display the first and last\n",
    "# index and then multiply each elemnt by 2 and display the result\n",
    "\n",
    "my_list=[1,2,3,4,5]\n",
    "arr=np.array(my_list)\n",
    "print(\"Array:\",arr)\n",
    "print(\"First  element:\",arr[0])\n",
    "print(\"Last  element:\",arr[-1])\n",
    "print(\"Array after doubling each element\")\n",
    "print(arr*2)"
   ]
  },
  {
   "cell_type": "code",
   "execution_count": 3,
   "id": "ece6d16b-6286-4fcd-b066-b23a74b140a3",
   "metadata": {},
   "outputs": [
    {
     "name": "stdout",
     "output_type": "stream",
     "text": [
      "An array of 10 zeros\n",
      "[0. 0. 0. 0. 0. 0. 0. 0. 0. 0.]\n",
      "An array of 10 ones\n",
      "[1. 1. 1. 1. 1. 1. 1. 1. 1. 1.]\n",
      "An array of 10 fives\n",
      "[5. 5. 5. 5. 5. 5. 5. 5. 5. 5.]\n"
     ]
    }
   ],
   "source": [
    "# 3) Write a Numpy program to create an array of 10 zeros,10 ones and 10 fives\n",
    "zero_arr=np.zeros(10)\n",
    "print(\"An array of 10 zeros\")\n",
    "print(zero_arr)\n",
    "\n",
    "one_arr=np.ones(10)\n",
    "print(\"An array of 10 ones\")\n",
    "print(one_arr)\n",
    "\n",
    "five_arr=np.ones(10)*5\n",
    "print(\"An array of 10 fives\")\n",
    "print(five_arr)"
   ]
  },
  {
   "cell_type": "code",
   "execution_count": 4,
   "id": "122325bd-b9dc-4fb6-8500-8ef306fa9cf0",
   "metadata": {},
   "outputs": [
    {
     "name": "stdout",
     "output_type": "stream",
     "text": [
      "Matrix(3*3):\n",
      "[[ 2  3  4]\n",
      " [ 5  6  7]\n",
      " [ 8  9 10]]\n"
     ]
    }
   ],
   "source": [
    "# 4) Write a numpy program to create a 3*3 matrix with values 2 to 10\n",
    "import numpy as n\n",
    "mat=np.array([2,3,4,5,6,7,8,9,10]).reshape(3,3)\n",
    "print(\"Matrix(3*3):\")\n",
    "print(mat)\n"
   ]
  },
  {
   "cell_type": "code",
   "execution_count": null,
   "id": "ee82809f-3053-437f-a57f-39d3b6a45d3b",
   "metadata": {},
   "outputs": [],
   "source": []
  }
 ],
 "metadata": {
  "kernelspec": {
   "display_name": "Python 3 (ipykernel)",
   "language": "python",
   "name": "python3"
  },
  "language_info": {
   "codemirror_mode": {
    "name": "ipython",
    "version": 3
   },
   "file_extension": ".py",
   "mimetype": "text/x-python",
   "name": "python",
   "nbconvert_exporter": "python",
   "pygments_lexer": "ipython3",
   "version": "3.12.3"
  }
 },
 "nbformat": 4,
 "nbformat_minor": 5
}
