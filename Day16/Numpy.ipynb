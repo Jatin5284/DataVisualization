{
 "cells": [
  {
   "cell_type": "code",
   "execution_count": 1,
   "id": "2afe23b7-8bf0-474c-bf58-1c4fb7cf5509",
   "metadata": {},
   "outputs": [
    {
     "name": "stdout",
     "output_type": "stream",
     "text": [
      "(array([3, 4, 5, 6, 7]),)\n"
     ]
    }
   ],
   "source": [
    "import numpy as np\n",
    "arr=np.array([1,2,3,4,5,6,7,8])\n",
    "indices=np.where(arr>3)\n",
    "print(indices)"
   ]
  },
  {
   "cell_type": "code",
   "execution_count": 4,
   "id": "c2eb1b44-0c76-4985-95e7-21037199adcc",
   "metadata": {},
   "outputs": [
    {
     "name": "stdout",
     "output_type": "stream",
     "text": [
      "[[1 4]\n",
      " [2 5]\n",
      " [3 6]]\n"
     ]
    }
   ],
   "source": [
    "arr=np.array([[1,2,3],[4,5,6]])\n",
    "\n",
    "# Transpose the array using rows and column\n",
    "transpose_arr=np.transpose(arr)\n",
    "print(transpose_arr)"
   ]
  },
  {
   "cell_type": "code",
   "execution_count": 11,
   "id": "fd0e77e6-d5d4-4224-8025-f4c9c26e530c",
   "metadata": {},
   "outputs": [
    {
     "name": "stdout",
     "output_type": "stream",
     "text": [
      "Mean: 4.428571428571429\n",
      "Median: 4.0\n"
     ]
    }
   ],
   "source": [
    "arr=np.array([1,2,3,4,6,7,8])\n",
    "print(\"Mean:\",np.mean(arr))\n",
    "print(\"Median:\",np.median(arr))"
   ]
  },
  {
   "cell_type": "code",
   "execution_count": 15,
   "id": "1fb221bd-46d5-49fb-b9a5-a5cecbbf7e0f",
   "metadata": {},
   "outputs": [
    {
     "name": "stdout",
     "output_type": "stream",
     "text": [
      "New element inserted at index: 2\n"
     ]
    }
   ],
   "source": [
    "sorted_array=np.array([1,4,7,9])\n",
    "index=np.searchsorted(sorted_array,5)\n",
    "print(\"New element inserted at index:\",index)"
   ]
  },
  {
   "cell_type": "code",
   "execution_count": 19,
   "id": "29bb9cba-1c73-4b3d-a3dc-e13b99b5cd64",
   "metadata": {},
   "outputs": [
    {
     "name": "stdout",
     "output_type": "stream",
     "text": [
      "Elements greater than 3:\n",
      "[5 4 8 9]\n"
     ]
    }
   ],
   "source": [
    "arr=np.array([1,2,3,5,4,8,9])\n",
    "new_arr=np.extract(arr>3,arr)\n",
    "print(\"Elements greater than 3:\")\n",
    "print(new_arr)"
   ]
  },
  {
   "cell_type": "code",
   "execution_count": null,
   "id": "fc253672-b0dd-43ed-ad03-d5b51d32be5f",
   "metadata": {},
   "outputs": [],
   "source": []
  }
 ],
 "metadata": {
  "kernelspec": {
   "display_name": "Python 3 (ipykernel)",
   "language": "python",
   "name": "python3"
  },
  "language_info": {
   "codemirror_mode": {
    "name": "ipython",
    "version": 3
   },
   "file_extension": ".py",
   "mimetype": "text/x-python",
   "name": "python",
   "nbconvert_exporter": "python",
   "pygments_lexer": "ipython3",
   "version": "3.12.3"
  }
 },
 "nbformat": 4,
 "nbformat_minor": 5
}
