{
 "cells": [
  {
   "cell_type": "code",
   "execution_count": 1,
   "id": "408ffa3c-5f62-4062-a1f1-2a1898737a77",
   "metadata": {},
   "outputs": [
    {
     "name": "stdout",
     "output_type": "stream",
     "text": [
      "2041727365424\n"
     ]
    }
   ],
   "source": [
    "name=\"Rahul\"\n",
    "name=name+\"Tiwari\"\n",
    "print(id(name))"
   ]
  },
  {
   "cell_type": "code",
   "execution_count": 2,
   "id": "7d18e481-788b-4386-a4ad-0ca4d3b7acb9",
   "metadata": {},
   "outputs": [
    {
     "ename": "TypeError",
     "evalue": "'str' object does not support item assignment",
     "output_type": "error",
     "traceback": [
      "\u001b[1;31m---------------------------------------------------------------------------\u001b[0m",
      "\u001b[1;31mTypeError\u001b[0m                                 Traceback (most recent call last)",
      "Cell \u001b[1;32mIn[2], line 3\u001b[0m\n\u001b[0;32m      1\u001b[0m name\u001b[38;5;241m=\u001b[39m\u001b[38;5;124m\"\u001b[39m\u001b[38;5;124mRahul\u001b[39m\u001b[38;5;124m\"\u001b[39m\n\u001b[0;32m      2\u001b[0m name\u001b[38;5;241m=\u001b[39mname\u001b[38;5;241m+\u001b[39m\u001b[38;5;124m\"\u001b[39m\u001b[38;5;124mTiwari\u001b[39m\u001b[38;5;124m\"\u001b[39m\n\u001b[1;32m----> 3\u001b[0m \u001b[43mname\u001b[49m\u001b[43m[\u001b[49m\u001b[38;5;241;43m7\u001b[39;49m\u001b[43m]\u001b[49m\u001b[38;5;241m=\u001b[39m\u001b[38;5;124m\"\u001b[39m\u001b[38;5;124mx\u001b[39m\u001b[38;5;124m\"\u001b[39m\n\u001b[0;32m      4\u001b[0m \u001b[38;5;28mprint\u001b[39m(name)\n",
      "\u001b[1;31mTypeError\u001b[0m: 'str' object does not support item assignment"
     ]
    }
   ],
   "source": [
    "name=\"Rahul\"\n",
    "name=name+\"Tiwari\"\n",
    "name[7]=\"x\"\n",
    "print(name)"
   ]
  },
  {
   "cell_type": "code",
   "execution_count": 3,
   "id": "7ef0de9a-35fa-4597-86ba-0a29b99acec6",
   "metadata": {},
   "outputs": [
    {
     "name": "stdout",
     "output_type": "stream",
     "text": [
      "name[2:4] am\n",
      "name[5:9] Java\n",
      "name[:15] I am Java Train\n",
      "name[2:] am Java Trainer\n",
      "name[:] I am Java Trainer\n",
      "name[0:17:3] Ima ae\n",
      "name[::] I am Java Trainer\n",
      "name[::-1] reniarT avaJ ma I\n"
     ]
    }
   ],
   "source": [
    "name=\"I am Java Trainer\"\n",
    "print(\"name[2:4]\",name[2:4])\n",
    "print(\"name[5:9]\",name[5:9])\n",
    "print(\"name[:15]\",name[:15])\n",
    "print(\"name[2:]\",name[2:])\n",
    "print(\"name[:]\",name[:])\n",
    "print(\"name[0:17:3]\",name[0:17:3])\n",
    "print(\"name[::]\",name[::])\n",
    "print(\"name[::-1]\",name[::-1])"
   ]
  },
  {
   "cell_type": "code",
   "execution_count": 4,
   "id": "ea8cce36-2d4e-4713-9fdc-c50c2d53c6de",
   "metadata": {},
   "outputs": [
    {
     "name": "stdout",
     "output_type": "stream",
     "text": [
      "True\n",
      "False\n"
     ]
    }
   ],
   "source": [
    "x=[\"apple\",\"banana\"]\n",
    "y=[\"apple\",\"banana\"]\n",
    "z=x\n",
    "print(x is z) # check reference\n",
    "print(x is y)"
   ]
  },
  {
   "cell_type": "code",
   "execution_count": 5,
   "id": "5c9ad1f6-6159-4375-9c24-9c89ca2e0dcb",
   "metadata": {},
   "outputs": [
    {
     "name": "stdout",
     "output_type": "stream",
     "text": [
      "rahul tiwari id 2041733186544\n",
      "rahul tiwari id 2041733186544\n",
      "Rahul tiwari id 2041733189104\n"
     ]
    }
   ],
   "source": [
    "str=\"rahul tiwari\"\n",
    "print(str,\"id\",id(str))\n",
    "str.capitalize()\n",
    "print(str,\"id\",id(str))\n",
    "str=str.capitalize()\n",
    "print(str,\"id\",id(str))"
   ]
  },
  {
   "cell_type": "code",
   "execution_count": 6,
   "id": "ce23ebda-6321-482c-82fe-432827d0b2cd",
   "metadata": {},
   "outputs": [
    {
     "name": "stdout",
     "output_type": "stream",
     "text": [
      "     rahul     \n"
     ]
    }
   ],
   "source": [
    "str=\"rahul\"\n",
    "print(str.center(15,\" \"))\n",
    "# \"\" optional to give the character on left and right sid both print char and 15 is the length of character"
   ]
  },
  {
   "cell_type": "code",
   "execution_count": 7,
   "id": "b8c8ef71-0bb6-4e98-bcb8-19778503d762",
   "metadata": {},
   "outputs": [
    {
     "name": "stdout",
     "output_type": "stream",
     "text": [
      "1\n"
     ]
    }
   ],
   "source": [
    "str=\"second a start index and third\"\n",
    "oc=str.count(\"a\",9,15) # str. count(character,startindex,endindex) both start and end are optional\n",
    "print(oc)"
   ]
  },
  {
   "cell_type": "code",
   "execution_count": 8,
   "id": "f0027a0d-51c8-43cc-a24e-61f5f45e5d52",
   "metadata": {},
   "outputs": [
    {
     "name": "stdout",
     "output_type": "stream",
     "text": [
      "True\n"
     ]
    }
   ],
   "source": [
    "str=\"second a start index and third\"\n",
    "isends=str.endswith(\"nd\",0,6)\n",
    "print(isends)"
   ]
  },
  {
   "cell_type": "code",
   "execution_count": 9,
   "id": "224cc29e-94ce-46fd-a1b7-40a257fa3111",
   "metadata": {},
   "outputs": [
    {
     "name": "stdout",
     "output_type": "stream",
     "text": [
      "-1\n"
     ]
    }
   ],
   "source": [
    "str=\"Welcome to the python class:\"\n",
    "str1=str.find(\"e\",9,13) # if not find give -1\n",
    "print(str1)"
   ]
  },
  {
   "cell_type": "code",
   "execution_count": 10,
   "id": "bee15c4b-5f0e-428b-8f7d-20bf1bd24b50",
   "metadata": {},
   "outputs": [
    {
     "ename": "ValueError",
     "evalue": "substring not found",
     "output_type": "error",
     "traceback": [
      "\u001b[1;31m---------------------------------------------------------------------------\u001b[0m",
      "\u001b[1;31mValueError\u001b[0m                                Traceback (most recent call last)",
      "Cell \u001b[1;32mIn[10], line 2\u001b[0m\n\u001b[0;32m      1\u001b[0m \u001b[38;5;28mstr\u001b[39m\u001b[38;5;241m=\u001b[39m\u001b[38;5;124m\"\u001b[39m\u001b[38;5;124mWelcome to the python class:\u001b[39m\u001b[38;5;124m\"\u001b[39m\n\u001b[1;32m----> 2\u001b[0m str1\u001b[38;5;241m=\u001b[39m\u001b[38;5;28;43mstr\u001b[39;49m\u001b[38;5;241;43m.\u001b[39;49m\u001b[43mindex\u001b[49m\u001b[43m(\u001b[49m\u001b[38;5;124;43m\"\u001b[39;49m\u001b[38;5;124;43me\u001b[39;49m\u001b[38;5;124;43m\"\u001b[39;49m\u001b[43m,\u001b[49m\u001b[38;5;241;43m9\u001b[39;49m\u001b[43m,\u001b[49m\u001b[38;5;241;43m13\u001b[39;49m\u001b[43m)\u001b[49m \u001b[38;5;66;03m# if not find give error\u001b[39;00m\n\u001b[0;32m      3\u001b[0m \u001b[38;5;28mprint\u001b[39m(str1)\n",
      "\u001b[1;31mValueError\u001b[0m: substring not found"
     ]
    }
   ],
   "source": [
    "str=\"Welcome to the python class:\"\n",
    "str1=str.index(\"e\",9,13) # if not find give error\n",
    "print(str1)"
   ]
  },
  {
   "cell_type": "code",
   "execution_count": 13,
   "id": "2d1d058d-ee53-4dc7-83aa-74c552737eb7",
   "metadata": {},
   "outputs": [
    {
     "name": "stdout",
     "output_type": "stream",
     "text": [
      "12345 True\n",
      "Welcome 123 False\n",
      "Welcome123 True\n",
      "Welcome True\n"
     ]
    }
   ],
   "source": [
    "str=\"12345\"\n",
    "str1=\"Welcome 123\"\n",
    "str2=\"Welcome123\"\n",
    "str3=\"Welcome\"\n",
    "print(str,str.isnumeric())\n",
    "print(str1,str1.isalnum())\n",
    "print(str2,str2.isalnum())\n",
    "print(str3,str3.isalpha())\n"
   ]
  },
  {
   "cell_type": "code",
   "execution_count": 29,
   "id": "b452d964-b758-4b2c-9618-57f4e0cba524",
   "metadata": {},
   "outputs": [
    {
     "name": "stdout",
     "output_type": "stream",
     "text": [
      "rahul\n",
      "        rahul\n",
      "rahul       \n"
     ]
    }
   ],
   "source": [
    "str=\"        rahul       \"\n",
    "strip=str.strip()\n",
    "print(strip)\n",
    "rightstrip=str.rstrip()\n",
    "print(rightstrip)\n",
    "leftstrip=str.lstrip()\n",
    "print(leftstrip)"
   ]
  },
  {
   "cell_type": "code",
   "execution_count": 2,
   "id": "2fd0fc92-2fc5-4e1f-b460-49393548cc7a",
   "metadata": {},
   "outputs": [
    {
     "name": "stdout",
     "output_type": "stream",
     "text": [
      "C is programming language of java\n"
     ]
    }
   ],
   "source": [
    "str=\"java is programming language of java\"\n",
    "print(str.replace(\"java\",\"C\",1))"
   ]
  },
  {
   "cell_type": "code",
   "execution_count": null,
   "id": "441f2381-f54f-45a0-ac43-0ae7b64b5940",
   "metadata": {},
   "outputs": [],
   "source": []
  }
 ],
 "metadata": {
  "kernelspec": {
   "display_name": "Python 3 (ipykernel)",
   "language": "python",
   "name": "python3"
  },
  "language_info": {
   "codemirror_mode": {
    "name": "ipython",
    "version": 3
   },
   "file_extension": ".py",
   "mimetype": "text/x-python",
   "name": "python",
   "nbconvert_exporter": "python",
   "pygments_lexer": "ipython3",
   "version": "3.12.3"
  }
 },
 "nbformat": 4,
 "nbformat_minor": 5
}
