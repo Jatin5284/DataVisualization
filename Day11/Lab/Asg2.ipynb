{
 "cells": [
  {
   "cell_type": "code",
   "execution_count": 1,
   "id": "da012f8d-19fb-48c2-947c-01fb3cdf9e8e",
   "metadata": {},
   "outputs": [
    {
     "name": "stdout",
     "output_type": "stream",
     "text": [
      "'to': 2\n",
      "'change': 2\n",
      "'the': 3\n",
      "'overall': 1\n",
      "'look': 2\n",
      "'of': 1\n",
      "'your': 1\n",
      "'document': 1\n",
      "'available': 1\n",
      "'in': 1\n",
      "'gallery': 1\n"
     ]
    }
   ],
   "source": [
    "# 1. Write a Python program to count the occurrences of each word in a\n",
    "# given sentence\n",
    "# string = “To change the overall look of your document. To change the look\n",
    "# available in the gallery”\n",
    "\n",
    "import string\n",
    "\n",
    "sentence = \"To change the overall look of your document. To change the look available in the gallery\"\n",
    "\n",
    "sentence = sentence.lower()\n",
    "\n",
    "sentence = sentence.translate(str.maketrans(\"\", \"\", string.punctuation))\n",
    "\n",
    "words = sentence.split()\n",
    "\n",
    "word_count = {}\n",
    "for word in words:\n",
    "    if word in word_count:\n",
    "        word_count[word] += 1\n",
    "    else:\n",
    "        word_count[word] = 1\n",
    "\n",
    "for word, count in word_count.items():\n",
    "    print(f\"'{word}': {count}\")\n"
   ]
  },
  {
   "cell_type": "code",
   "execution_count": 2,
   "id": "cd9c3524-5370-4a7c-b920-c920cd781fb7",
   "metadata": {},
   "outputs": [
    {
     "name": "stdout",
     "output_type": "stream",
     "text": [
      "Original string:\n",
      "\n",
      "Best \n",
      "Deeptech \n",
      "Python \n",
      "Training\n",
      "\n",
      "String without newlines:\n",
      "Best  Deeptech  Python  Training\n"
     ]
    }
   ],
   "source": [
    "# 2. Write a Python program to remove a newline in Python\n",
    "# String = \"\\nBest \\nDeeptech \\nPython \\nTraining\\n\n",
    "\n",
    "string = \"\\nBest \\nDeeptech \\nPython \\nTraining\\n\"\n",
    "\n",
    "string_no_newlines = string.replace(\"\\n\", \" \")\n",
    "\n",
    "string_no_newlines = string_no_newlines.strip()\n",
    "\n",
    "# Display the result\n",
    "print(f\"Original string:\\n{string}\")\n",
    "print(f\"String without newlines:\\n{string_no_newlines}\")\n"
   ]
  },
  {
   "cell_type": "code",
   "execution_count": 3,
   "id": "1a381547-a57f-41dd-b311-2053abb28173",
   "metadata": {},
   "outputs": [
    {
     "name": "stdout",
     "output_type": "stream",
     "text": [
      "Original string: Deeptech Python Training\n",
      "Reversed string: Training Python Deeptech\n"
     ]
    }
   ],
   "source": [
    "# 3. Write a Python program to reverse words in a string\n",
    "# String = “Deeptech Python Training”\n",
    "\n",
    "string = \"Deeptech Python Training\"\n",
    "\n",
    "words = string.split()\n",
    "\n",
    "reversed_words = words[::-1]\n",
    "\n",
    "reversed_string = \" \".join(reversed_words)\n",
    "\n",
    "# Display the result\n",
    "print(f\"Original string: {string}\")\n",
    "print(f\"Reversed string: {reversed_string}\")\n",
    "\n"
   ]
  },
  {
   "cell_type": "code",
   "execution_count": 1,
   "id": "09345c46-514d-442c-8ddf-e0ee85d862a6",
   "metadata": {},
   "outputs": [
    {
     "name": "stdout",
     "output_type": "stream",
     "text": [
      "Vowel counts:\n",
      "a: 1\n",
      "e: 2\n",
      "i: 2\n",
      "o: 3\n"
     ]
    }
   ],
   "source": [
    "# 4. Write a Python program to count and display the vowels of a given text\n",
    "# String=”Welcome to python Training”\n",
    "def count_vowels(text):\n",
    "    vowels = \"aeiouAEIOU\"\n",
    "    vowel_count = {vowel: 0 for vowel in vowels}\n",
    "    \n",
    "    for char in text:\n",
    "        if char in vowels:\n",
    "            vowel_count[char] += 1\n",
    "\n",
    "    return vowel_count\n",
    "\n",
    "def display_vowels(vowel_count):\n",
    "    print(\"Vowel counts:\")\n",
    "    for vowel, count in vowel_count.items():\n",
    "        if count > 0:\n",
    "            print(f\"{vowel}: {count}\")\n",
    "\n",
    "# Given text\n",
    "text = \"Welcome to python Training\"\n",
    "\n",
    "# Count vowels\n",
    "vowel_count = count_vowels(text)\n",
    "\n",
    "# Display vowel counts\n",
    "display_vowels(vowel_count)\n",
    "\n"
   ]
  },
  {
   "cell_type": "code",
   "execution_count": null,
   "id": "c6238149-4fb2-43f4-8938-ddbcb58dfc65",
   "metadata": {},
   "outputs": [],
   "source": []
  }
 ],
 "metadata": {
  "kernelspec": {
   "display_name": "Python 3 (ipykernel)",
   "language": "python",
   "name": "python3"
  },
  "language_info": {
   "codemirror_mode": {
    "name": "ipython",
    "version": 3
   },
   "file_extension": ".py",
   "mimetype": "text/x-python",
   "name": "python",
   "nbconvert_exporter": "python",
   "pygments_lexer": "ipython3",
   "version": "3.12.3"
  }
 },
 "nbformat": 4,
 "nbformat_minor": 5
}
