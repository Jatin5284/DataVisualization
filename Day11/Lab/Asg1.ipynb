{
 "cells": [
  {
   "cell_type": "code",
   "execution_count": 1,
   "id": "1f87a372-ab95-4c58-a4d5-55369034a42c",
   "metadata": {},
   "outputs": [
    {
     "name": "stdin",
     "output_type": "stream",
     "text": [
      "Enter the first number 4\n",
      "Enter the second number 5.5\n"
     ]
    },
    {
     "name": "stdout",
     "output_type": "stream",
     "text": [
      "Division of: 4.0 by 5.5 = 0.7272727272727273\n"
     ]
    }
   ],
   "source": [
    "# 1 Declare a div() function with two parameters. Then call the function and pass two\n",
    "# numbers and display their division.\n",
    "\n",
    "def div(a,b):\n",
    "    result=-1\n",
    "    if(b>0):\n",
    "        result=a/b\n",
    "    else:\n",
    "         print(\"Give the higher number than zero\")\n",
    "    return result\n",
    "num1=float(input(\"Enter the first number\"))\n",
    "num2=float(input(\"Enter the second number\"))\n",
    "print(\"Division of:\",num1,\"by\",num2,\"=\",div(num1,num2))"
   ]
  },
  {
   "cell_type": "code",
   "execution_count": 2,
   "id": "39a75481-62f1-4cce-b61f-ff810d61a204",
   "metadata": {},
   "outputs": [
    {
     "name": "stdin",
     "output_type": "stream",
     "text": [
      "Enter a number 4.5\n"
     ]
    },
    {
     "name": "stdout",
     "output_type": "stream",
     "text": [
      "Square of a number 4.5 is 20.25\n"
     ]
    }
   ],
   "source": [
    "\n",
    "# 2. Declare a square() function with one parameter.Then call the function and pass\n",
    "# one number and display the square of that number .\n",
    "def square(a):\n",
    "    return a*a\n",
    "num=float(input(\"Enter a number\"))\n",
    "print(\"Square of a number\",num,\"is\",square(num))"
   ]
  },
  {
   "cell_type": "code",
   "execution_count": 3,
   "id": "8de817cc-addf-4fdf-99d0-1b87ab30ca6d",
   "metadata": {},
   "outputs": [
    {
     "name": "stdout",
     "output_type": "stream",
     "text": [
      "[2, 8, 5, 3, 14]\n",
      "Max 14\n",
      "Min 2\n"
     ]
    }
   ],
   "source": [
    "# 3. Using max() and min() functions display the maximum and minimum of 5 random\n",
    "# numbers.\n",
    "number=[2,8,5,3,14]\n",
    "print(number)\n",
    "print(\"Max\",max(number))\n",
    "print(\"Min\",min(number))"
   ]
  },
  {
   "cell_type": "code",
   "execution_count": 4,
   "id": "172a9743-37b8-459f-bee1-4924a2b7cf67",
   "metadata": {},
   "outputs": [
    {
     "name": "stdin",
     "output_type": "stream",
     "text": [
      "Enter a name Rahul TIwari\n"
     ]
    },
    {
     "name": "stdout",
     "output_type": "stream",
     "text": [
      "rahul tiwari\n"
     ]
    }
   ],
   "source": [
    "# 4. Accept a name from the user and display that in lower case using lower()\n",
    "# function\n",
    "name=input(\"Enter a name\")\n",
    "name=name.lower()\n",
    "print(name)"
   ]
  },
  {
   "cell_type": "code",
   "execution_count": null,
   "id": "b30ff781-809f-4328-93fe-ac5574494e63",
   "metadata": {},
   "outputs": [],
   "source": []
  }
 ],
 "metadata": {
  "kernelspec": {
   "display_name": "Python 3 (ipykernel)",
   "language": "python",
   "name": "python3"
  },
  "language_info": {
   "codemirror_mode": {
    "name": "ipython",
    "version": 3
   },
   "file_extension": ".py",
   "mimetype": "text/x-python",
   "name": "python",
   "nbconvert_exporter": "python",
   "pygments_lexer": "ipython3",
   "version": "3.12.3"
  }
 },
 "nbformat": 4,
 "nbformat_minor": 5
}
