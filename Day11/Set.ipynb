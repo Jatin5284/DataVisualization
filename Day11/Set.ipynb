{
 "cells": [
  {
   "cell_type": "code",
   "execution_count": 8,
   "id": "e39b56cf-e530-4305-b34c-adf8540c4d29",
   "metadata": {},
   "outputs": [
    {
     "name": "stdout",
     "output_type": "stream",
     "text": [
      "(10, 20, 30)\n",
      "2876254367040\n",
      "(100, 200, 500, 350)\n",
      "2876254516816\n"
     ]
    }
   ],
   "source": [
    "a=10,20,30 #tuple initiate\n",
    "print(a)\n",
    "print(id(a)) # print address\n",
    "a=100,200,500,350\n",
    "print(a)\n",
    "print(id(a)) #give output or error\n"
   ]
  },
  {
   "cell_type": "code",
   "execution_count": 9,
   "id": "aec85c1a-b7ca-4ad9-ba12-5e10d0171295",
   "metadata": {},
   "outputs": [
    {
     "name": "stdout",
     "output_type": "stream",
     "text": [
      "(10, 20, 30)\n",
      "2876254367040\n",
      "<class 'tuple'>\n"
     ]
    }
   ],
   "source": [
    "a=10,20,30 #tuple initiate\n",
    "print(a)\n",
    "print(id(a)) # print address\n",
    "print(type(a))\n"
   ]
  },
  {
   "cell_type": "code",
   "execution_count": 10,
   "id": "ac73906b-7661-420f-9737-6f06f9f3f152",
   "metadata": {},
   "outputs": [
    {
     "name": "stdout",
     "output_type": "stream",
     "text": [
      "6\n",
      "5\n"
     ]
    }
   ],
   "source": [
    "months=[\"January\",\"feburary\",\"March\",\"April\",\"May\",\"January\"]\n",
    "print(len(months))\n",
    "months=set(months)\n",
    "print(len(months))"
   ]
  },
  {
   "cell_type": "code",
   "execution_count": 11,
   "id": "5839eb60-e3da-4e69-a431-d21d58d7991d",
   "metadata": {},
   "outputs": [
    {
     "name": "stdout",
     "output_type": "stream",
     "text": [
      "{'April', 'May', 'June', 'Feburary', 'March', 'January'}\n",
      "{'May', 'June', 'September', 'April', 'January', 'August', 'July', 'Feburary', 'March', 'October'}\n"
     ]
    }
   ],
   "source": [
    "months={\"January\",\"Feburary\",\"March\",\"April\",\"May\",\"June\"}\n",
    "print(months)\n",
    "months.add(\"August\")\n",
    "months.update([\"July\",\"August\",\"September\",\"October\"])\n",
    "print(months)"
   ]
  },
  {
   "cell_type": "code",
   "execution_count": 12,
   "id": "04e44c18-b34c-4e81-b4ac-e19767a831d4",
   "metadata": {},
   "outputs": [
    {
     "name": "stdout",
     "output_type": "stream",
     "text": [
      "{'April', 'May', 'June', 'Feburary', 'March', 'January'}\n",
      "{'April', 'May', 'June', 'Feburary', 'March'}\n"
     ]
    },
    {
     "ename": "KeyError",
     "evalue": "'January'",
     "output_type": "error",
     "traceback": [
      "\u001b[1;31m---------------------------------------------------------------------------\u001b[0m",
      "\u001b[1;31mKeyError\u001b[0m                                  Traceback (most recent call last)",
      "Cell \u001b[1;32mIn[12], line 7\u001b[0m\n\u001b[0;32m      5\u001b[0m \u001b[38;5;28mprint\u001b[39m(months)\n\u001b[0;32m      6\u001b[0m months\u001b[38;5;241m.\u001b[39mremove(\u001b[38;5;124m\"\u001b[39m\u001b[38;5;124mApril\u001b[39m\u001b[38;5;124m\"\u001b[39m)\n\u001b[1;32m----> 7\u001b[0m \u001b[43mmonths\u001b[49m\u001b[38;5;241;43m.\u001b[39;49m\u001b[43mremove\u001b[49m\u001b[43m(\u001b[49m\u001b[38;5;124;43m\"\u001b[39;49m\u001b[38;5;124;43mJanuary\u001b[39;49m\u001b[38;5;124;43m\"\u001b[39;49m\u001b[43m)\u001b[49m \u001b[38;5;66;03m# error it is not present so its not run\u001b[39;00m\n\u001b[0;32m      8\u001b[0m \u001b[38;5;28mprint\u001b[39m(months)\n",
      "\u001b[1;31mKeyError\u001b[0m: 'January'"
     ]
    }
   ],
   "source": [
    "months={\"January\",\"Feburary\",\"March\",\"April\",\"May\",\"June\"}\n",
    "print(months)\n",
    "months.discard(\"January\")\n",
    "months.discard(\"Oct\") # it is not present but also run\n",
    "print(months)\n",
    "months.remove(\"April\")\n",
    "months.remove(\"January\") # error it is not present so its not run\n",
    "print(months)"
   ]
  },
  {
   "cell_type": "code",
   "execution_count": 13,
   "id": "77c1c860-8843-4633-b664-52efd9a6752a",
   "metadata": {},
   "outputs": [
    {
     "name": "stdout",
     "output_type": "stream",
     "text": [
      "{'April', 'May', 'June', 'Feburary', 'March', 'January'}\n"
     ]
    }
   ],
   "source": [
    "months={\"January\",\"Feburary\",\"March\",\"April\",\"May\",\"June\"}\n",
    "print(months)"
   ]
  },
  {
   "cell_type": "code",
   "execution_count": null,
   "id": "ce51dff6-b2bc-4fcc-b4bf-be0c7109d1cd",
   "metadata": {},
   "outputs": [],
   "source": []
  }
 ],
 "metadata": {
  "kernelspec": {
   "display_name": "Python 3 (ipykernel)",
   "language": "python",
   "name": "python3"
  },
  "language_info": {
   "codemirror_mode": {
    "name": "ipython",
    "version": 3
   },
   "file_extension": ".py",
   "mimetype": "text/x-python",
   "name": "python",
   "nbconvert_exporter": "python",
   "pygments_lexer": "ipython3",
   "version": "3.12.3"
  }
 },
 "nbformat": 4,
 "nbformat_minor": 5
}
