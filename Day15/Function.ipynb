{
 "cells": [
  {
   "cell_type": "code",
   "execution_count": 4,
   "id": "cb920d75-de66-4d6d-b28b-d0a49856943e",
   "metadata": {},
   "outputs": [
    {
     "name": "stdout",
     "output_type": "stream",
     "text": [
      "old matrix [16 11 13 17 13 16  3 16 11 10]\n",
      "Shulle matrix [13 16 16 11 16 10 11 13 17  3]\n",
      "(array([ 3, 10, 11, 13, 16, 17], dtype=int32), array([9, 5, 3, 0, 1, 8]), array([1, 1, 2, 2, 3, 1]))\n",
      "6\n"
     ]
    }
   ],
   "source": [
    "import numpy as n\n",
    "n.random.seed(122)\n",
    "mat=n.random.randint(1,21,10)\n",
    "print(\"old matrix\",mat)\n",
    "n.random.shuffle(mat)\n",
    "print(\"Shulle matrix\",mat)\n",
    "print(n.unique(mat,return_index=True,return_counts=True)) # unique is used for remove duplicate elements\n",
    "print(n.unique(mat).size)"
   ]
  },
  {
   "cell_type": "code",
   "execution_count": null,
   "id": "872d7ce5-7df6-46ab-9983-db7d00200ed7",
   "metadata": {},
   "outputs": [],
   "source": []
  }
 ],
 "metadata": {
  "kernelspec": {
   "display_name": "Python 3 (ipykernel)",
   "language": "python",
   "name": "python3"
  },
  "language_info": {
   "codemirror_mode": {
    "name": "ipython",
    "version": 3
   },
   "file_extension": ".py",
   "mimetype": "text/x-python",
   "name": "python",
   "nbconvert_exporter": "python",
   "pygments_lexer": "ipython3",
   "version": "3.12.3"
  }
 },
 "nbformat": 4,
 "nbformat_minor": 5
}
