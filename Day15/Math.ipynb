{
 "cells": [
  {
   "cell_type": "code",
   "execution_count": 2,
   "id": "6055f365-23b0-4a36-b449-207e62433ec3",
   "metadata": {},
   "outputs": [
    {
     "name": "stdout",
     "output_type": "stream",
     "text": [
      "2\n",
      "330\n",
      "5\n",
      "2\n",
      "[-0.54402111  0.91294525 -0.13238163 -0.13235175 -0.2794155   0.90929743]\n",
      "[-0.83907153  0.40808206 -0.99119882  0.99120281  0.96017029 -0.41614684]\n"
     ]
    }
   ],
   "source": [
    "import numpy as np\n",
    "\n",
    "arr=np.array([10,20,330,25,6,2])\n",
    "print(np.min(arr))\n",
    "print(np.max(arr))\n",
    "print(np.argmin(arr))\n",
    "print(np.argmax(arr))\n",
    "print(np.sin(arr))\n",
    "print(np.cos(arr))"
   ]
  },
  {
   "cell_type": "code",
   "execution_count": 15,
   "id": "47d2d48c-117a-4477-8a94-ebcf496e24aa",
   "metadata": {},
   "outputs": [
    {
     "name": "stdout",
     "output_type": "stream",
     "text": [
      "[[16 11 13]\n",
      " [17 13 16]\n",
      " [ 3 16 11]]\n",
      "Sum of Matrix: 116\n",
      "Cumsum of matrix [ 16  27  40  57  70  86  89 105 116]\n",
      "Minnimum element: 3\n",
      "Maximum element  17\n"
     ]
    }
   ],
   "source": [
    "np.random.seed(122)\n",
    "mat=np.random.randint(1,21,9).reshape(3,3)\n",
    "print(mat)\n",
    "print(\"Sum of Matrix:\",np.sum(mat))\n",
    "print(\"Cumsum of matrix\",np.cumsum(mat))\n",
    "print(\"Minnimum element:\",np.min(mat))\n",
    "print(\"Maximum element \",np.max(mat))"
   ]
  },
  {
   "cell_type": "code",
   "execution_count": 17,
   "id": "c741af7e-c893-40f8-b8e4-fe7fca71101e",
   "metadata": {},
   "outputs": [
    {
     "name": "stdout",
     "output_type": "stream",
     "text": [
      "Sum of Matrix: [40 46 30]\n",
      "Cumsum of matrix [[16 27 40]\n",
      " [17 30 46]\n",
      " [ 3 19 30]]\n",
      "Minnimum element: [11 13  3]\n",
      "Maximum element  [16 17 16]\n"
     ]
    }
   ],
   "source": [
    "# axis=1 for row and 0 is for column\n",
    "#for row\n",
    "print(\"Sum of Matrix:\",np.sum(mat,axis=1))\n",
    "print(\"Cumsum of matrix\",np.cumsum(mat,axis=1))\n",
    "print(\"Minnimum element:\",np.min(mat,axis=1))\n",
    "print(\"Maximum element \",np.max(mat,axis=1))"
   ]
  },
  {
   "cell_type": "code",
   "execution_count": 18,
   "id": "bb0be2e1-875f-489d-896a-dd04bc6e2a82",
   "metadata": {},
   "outputs": [
    {
     "name": "stdout",
     "output_type": "stream",
     "text": [
      "[36 40 40]\n",
      "[[16 11 13]\n",
      " [33 24 29]\n",
      " [36 40 40]]\n",
      "[ 3 11 11]\n",
      "[17 16 16]\n"
     ]
    }
   ],
   "source": [
    "# axis=0 for column\n",
    "# for column\n",
    "print(np.sum(mat,axis=0))\n",
    "print(np.cumsum(mat,axis=0))\n",
    "print(np.min(mat,axis=0))\n",
    "print(np.max(mat,axis=0))"
   ]
  },
  {
   "cell_type": "code",
   "execution_count": 14,
   "id": "ae75892e-6ec9-4e98-9c75-77af53ab7bbe",
   "metadata": {},
   "outputs": [
    {
     "name": "stdout",
     "output_type": "stream",
     "text": [
      "[40 46 30]\n",
      "[[16 27 40]\n",
      " [17 30 46]\n",
      " [ 3 19 30]]\n",
      "[11 13  3]\n",
      "[16 17 16]\n"
     ]
    }
   ],
   "source": [
    "print(np.sum(mat,axis=-1))\n",
    "print(np.cumsum(mat,axis=-1))\n",
    "print(np.min(mat,axis=-1))\n",
    "print(np.max(mat,axis=-1))"
   ]
  },
  {
   "cell_type": "code",
   "execution_count": null,
   "id": "03e82a90-f33b-423a-b143-1f6513176c93",
   "metadata": {},
   "outputs": [],
   "source": []
  }
 ],
 "metadata": {
  "kernelspec": {
   "display_name": "Python 3 (ipykernel)",
   "language": "python",
   "name": "python3"
  },
  "language_info": {
   "codemirror_mode": {
    "name": "ipython",
    "version": 3
   },
   "file_extension": ".py",
   "mimetype": "text/x-python",
   "name": "python",
   "nbconvert_exporter": "python",
   "pygments_lexer": "ipython3",
   "version": "3.12.3"
  }
 },
 "nbformat": 4,
 "nbformat_minor": 5
}
