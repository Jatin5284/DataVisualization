{
 "cells": [
  {
   "cell_type": "code",
   "execution_count": 1,
   "id": "4f41e467-91eb-4976-ba89-d1abe5051110",
   "metadata": {},
   "outputs": [
    {
     "name": "stdout",
     "output_type": "stream",
     "text": [
      "Array A\n",
      " 40\n",
      "--------------------------\n",
      "Array B\n",
      " [1 2 3 4 5]\n",
      "--------------------------\n",
      "Array C\n",
      " [[12 22 13 23]\n",
      " [33 21 11 22]]\n",
      "--------------------------\n",
      "Array D\n",
      " [[[16 55 23 43]\n",
      "  [56 66 33 90]\n",
      "  [76  4 33 15]]]\n",
      "--------------------------\n",
      "A array dimension 0\n",
      "B array dimension 1\n",
      "C array dimension 2\n",
      "D array dimension 3\n"
     ]
    }
   ],
   "source": [
    "import numpy as np\n",
    "\n",
    "a = np.array(40)\n",
    "b = np.array([1,2,3,4,5])\n",
    "c = np.array([[12,22,13,23],[33,21,11,22]])\n",
    "d = np.array([[[16,55,23,43],[56,66,33,90],[76,4,33,15]]])\n",
    "\n",
    "print(\"Array A\\n\",a)\n",
    "print(\"--------------------------\")\n",
    "print(\"Array B\\n\",b)\n",
    "print(\"--------------------------\")\n",
    "print(\"Array C\\n\",c)\n",
    "print(\"--------------------------\")\n",
    "print(\"Array D\\n\",d)\n",
    "print(\"--------------------------\")\n",
    "print(\"A array dimension\",a.ndim)\n",
    "print(\"B array dimension\",b.ndim)\n",
    "print(\"C array dimension\",c.ndim)\n",
    "print(\"D array dimension\",d.ndim)"
   ]
  },
  {
   "cell_type": "code",
   "execution_count": 2,
   "id": "52cd5007-4b80-4ce6-a3de-46af20cbef15",
   "metadata": {},
   "outputs": [
    {
     "name": "stdout",
     "output_type": "stream",
     "text": [
      "[  2   3 200   5]\n",
      "[  1   2   3 200   5]\n"
     ]
    }
   ],
   "source": [
    "b = np.array([1,2,3,4,5])\n",
    "b1 = b[1:5]\n",
    "b1[2]=200\n",
    "print(b1)\n",
    "print(b)"
   ]
  },
  {
   "cell_type": "code",
   "execution_count": 3,
   "id": "92082a71-08b7-4c50-805b-b4189b46edd3",
   "metadata": {},
   "outputs": [
    {
     "name": "stdout",
     "output_type": "stream",
     "text": [
      "original array without change [1 2 3 4 5]\n",
      "original array with change [42  2  3  4  5]\n",
      "Copy of Original Array [1 2 3 4 5]\n"
     ]
    }
   ],
   "source": [
    "arr = np.array([1,2,3,4,5])\n",
    "arr2 = arr.copy()\n",
    "print(\"original array without change\",arr)\n",
    "arr[0] = 42\n",
    "print(\"original array with change\",arr)\n",
    "print(\"Copy of Original Array\",arr2)"
   ]
  },
  {
   "cell_type": "code",
   "execution_count": 8,
   "id": "412f087a-3c73-4d6f-a800-8f165351748f",
   "metadata": {},
   "outputs": [
    {
     "name": "stdout",
     "output_type": "stream",
     "text": [
      "[43  2  3  4  5]\n",
      "[43  2  3  4  5]\n"
     ]
    }
   ],
   "source": [
    "arr = np.array([1,2,3,4,5])\n",
    "x = arr.view() # replica create\n",
    "arr[0]=43\n",
    "print(arr)\n",
    "print(x)"
   ]
  },
  {
   "cell_type": "code",
   "execution_count": 5,
   "id": "6e41b624-8f26-47bb-9b08-36a5af69bd38",
   "metadata": {},
   "outputs": [
    {
     "name": "stdout",
     "output_type": "stream",
     "text": [
      "[[1. 1. 1. 1.]\n",
      " [1. 1. 1. 1.]\n",
      " [1. 1. 1. 1.]]\n"
     ]
    }
   ],
   "source": [
    "arr = np.ones([3,4])\n",
    "print(arr)"
   ]
  },
  {
   "cell_type": "code",
   "execution_count": 6,
   "id": "271a469d-9de8-4f48-accf-6731a4917aec",
   "metadata": {},
   "outputs": [
    {
     "name": "stdout",
     "output_type": "stream",
     "text": [
      "[[1. 0. 0. 0.]\n",
      " [0. 1. 0. 0.]\n",
      " [0. 0. 1. 0.]\n",
      " [0. 0. 0. 1.]]\n"
     ]
    }
   ],
   "source": [
    "arr = np.eye(4)\n",
    "print(arr)  #print the elements Diagonally"
   ]
  },
  {
   "cell_type": "code",
   "execution_count": 7,
   "id": "250fb7a9-f633-4dfe-8af4-e85f79daa9f2",
   "metadata": {},
   "outputs": [
    {
     "name": "stdout",
     "output_type": "stream",
     "text": [
      "[[3 0 0 0]\n",
      " [0 4 0 0]\n",
      " [0 0 1 0]\n",
      " [0 0 0 2]]\n"
     ]
    }
   ],
   "source": [
    "arr = np.diag([3,4,1,2]) # print different elements diagonally\n",
    "print(arr)"
   ]
  },
  {
   "cell_type": "code",
   "execution_count": 11,
   "id": "98222f73-9bd8-451a-904d-85f2081467b0",
   "metadata": {},
   "outputs": [
    {
     "name": "stdout",
     "output_type": "stream",
     "text": [
      "[1 5 9]\n"
     ]
    }
   ],
   "source": [
    "import numpy as np\n",
    "\n",
    "arr=np.array([[1,2,3],[4,5,6],[7,8,9]])\n",
    "print(np.diag(arr))"
   ]
  },
  {
   "cell_type": "code",
   "execution_count": 12,
   "id": "352419f0-1c23-4c32-8c09-01c281e20b4b",
   "metadata": {},
   "outputs": [
    {
     "name": "stdout",
     "output_type": "stream",
     "text": [
      "[2 4]\n"
     ]
    }
   ],
   "source": [
    "arr=np.array([1,2,3,4,5,6,7])\n",
    "print(arr[1:5:2])"
   ]
  },
  {
   "cell_type": "code",
   "execution_count": 14,
   "id": "3f4d4f96-4a70-4067-a451-0c3b7aeb0f71",
   "metadata": {},
   "outputs": [
    {
     "name": "stdout",
     "output_type": "stream",
     "text": [
      "[5 9 2]\n"
     ]
    }
   ],
   "source": [
    "rand=np.random.randint(0,10,3)\n",
    "print(rand)"
   ]
  },
  {
   "cell_type": "code",
   "execution_count": 17,
   "id": "fea028d8-53f3-4c23-9245-3e7b629924f4",
   "metadata": {},
   "outputs": [
    {
     "name": "stdout",
     "output_type": "stream",
     "text": [
      "2\n"
     ]
    }
   ],
   "source": [
    "rand=np.random.randint(2,3)\n",
    "print(rand)"
   ]
  },
  {
   "cell_type": "code",
   "execution_count": 21,
   "id": "6bd409ac-0fd0-4479-b0c1-5ff3707277fb",
   "metadata": {},
   "outputs": [
    {
     "name": "stdout",
     "output_type": "stream",
     "text": [
      "[18 31 70 53 70 87 21 20 92 47 87 24]\n",
      "[[18 31 70]\n",
      " [53 70 87]\n",
      " [21 20 92]\n",
      " [47 87 24]]\n",
      "Array Values is  31\n",
      "Array Values is  53\n",
      "(4, 3)\n",
      "[[18 31 70 53]\n",
      " [70 87 21 20]\n",
      " [92 47 87 24]] (3, 4)\n",
      "[[18 31 70 53]\n",
      " [70 87 21 20]\n",
      " [92 47 87 24]] (3, 4)\n"
     ]
    }
   ],
   "source": [
    "arr=np.random.randint(0,100,12)\n",
    "print(arr)\n",
    "arr=arr.reshape(4,3)\n",
    "print(arr)\n",
    "print(\"Array Values is \",arr[0][1])\n",
    "print(\"Array Values is \",arr[1][0])\n",
    "print(arr.shape)\n",
    "arr=arr.reshape(-1,4)\n",
    "print(arr,arr.shape)\n",
    "arr.reshape(2,-1)\n",
    "print(arr,arr.shape)"
   ]
  },
  {
   "cell_type": "code",
   "execution_count": 24,
   "id": "c58163cb-3435-4777-95c1-e316f54c306a",
   "metadata": {},
   "outputs": [
    {
     "name": "stdout",
     "output_type": "stream",
     "text": [
      "[37 86 87 18 90 69  8 53 33 32 40 26]\n"
     ]
    }
   ],
   "source": [
    "np.random.seed(145)\n",
    "arr=np.random.randint(0,100,12)\n",
    "print(arr)"
   ]
  },
  {
   "cell_type": "code",
   "execution_count": 27,
   "id": "dab60bb4-609d-4c80-8a0f-03fa022644b8",
   "metadata": {},
   "outputs": [
    {
     "name": "stdout",
     "output_type": "stream",
     "text": [
      "[[341 365 469 213  87]\n",
      " [276 170 323 119 467]\n",
      " [297 456 442   8 269]\n",
      " [267 450 369 217 285]\n",
      " [271 419  22  55 201]\n",
      " [ 38 461 231 187 269]]\n",
      "[[442   8 269]\n",
      " [369 217 285]\n",
      " [ 22  55 201]\n",
      " [231 187 269]]\n",
      "[[369 217]\n",
      " [ 22  55]]\n"
     ]
    }
   ],
   "source": [
    "np.random.seed(111)\n",
    "arr=np.random.randint(1,500,30).reshape(6,5)\n",
    "print(arr)\n",
    "print(arr[2:,2:])\n",
    "print(arr[3:5,2:4])"
   ]
  },
  {
   "cell_type": "code",
   "execution_count": 30,
   "id": "4c629530-13a8-4c3b-aa47-77045a87f5e5",
   "metadata": {},
   "outputs": [
    {
     "name": "stdout",
     "output_type": "stream",
     "text": [
      "old slicing [3 4 8 5 6]\n",
      "old array [   1   20    5    9    3    4    8    5    6    2   25    2 2265    3]\n",
      "<class 'numpy.ndarray'>\n",
      "<class 'numpy.ndarray'>\n",
      "new slicing [0 0 0 0 0]\n",
      "new array [   1   20    5    9    0    0    0    0    0    2   25    2 2265    3]\n"
     ]
    }
   ],
   "source": [
    "arr=np.array([1,20,5,9,3,4,8,5,6,2,25,2,2265,3])\n",
    "slicing=arr[4:9]\n",
    "print(\"old slicing\",slicing)\n",
    "print(\"old array\",arr)\n",
    "print(type(slicing))\n",
    "print(type(arr))\n",
    "slicing[:]=0\n",
    "print(\"new slicing\",slicing)\n",
    "print(\"new array\",arr)"
   ]
  },
  {
   "cell_type": "code",
   "execution_count": 38,
   "id": "9803b7b8-343d-4e79-998e-5b60d9fb8ef8",
   "metadata": {},
   "outputs": [
    {
     "name": "stdout",
     "output_type": "stream",
     "text": [
      "[ 1  2  3  4  5  6  7  8  9 10 11 12 13 14]\n",
      "[ 2  4  6  8 10 12 14]\n",
      "[ 1  3  5  7  9 11 13]\n",
      "[ 9 10 11 12 13 14]\n",
      "[ 1  0  3  0  5  0  7  0  9  0 11  0 13  0]\n"
     ]
    }
   ],
   "source": [
    "arr=np.arange(1,15)\n",
    "print(arr)\n",
    "print(arr[arr%2==0])\n",
    "print(arr[arr%2!=0])\n",
    "print(arr[arr>8])\n",
    "arr[arr%2==0]=0\n",
    "print(arr)"
   ]
  },
  {
   "cell_type": "code",
   "execution_count": 44,
   "id": "836fe019-573a-4226-acbf-3f0549d0a6f6",
   "metadata": {},
   "outputs": [
    {
     "name": "stdout",
     "output_type": "stream",
     "text": [
      "[1 2 3 4 5 6 7]\n",
      "[3 4 5 6 7 8 9]\n",
      "[ 2  4  6  8 10 12 14]\n",
      "[ 1  4  9 16 25 36 49]\n"
     ]
    }
   ],
   "source": [
    "arr=np.arange(1,8)\n",
    "print(arr)\n",
    "print(arr+2)\n",
    "print(arr*2)\n",
    "print(arr**2)"
   ]
  },
  {
   "cell_type": "code",
   "execution_count": null,
   "id": "a16ce314-fbae-4fca-a34e-f3bf47b1f9cf",
   "metadata": {},
   "outputs": [],
   "source": []
  }
 ],
 "metadata": {
  "kernelspec": {
   "display_name": "Python 3 (ipykernel)",
   "language": "python",
   "name": "python3"
  },
  "language_info": {
   "codemirror_mode": {
    "name": "ipython",
    "version": 3
   },
   "file_extension": ".py",
   "mimetype": "text/x-python",
   "name": "python",
   "nbconvert_exporter": "python",
   "pygments_lexer": "ipython3",
   "version": "3.12.3"
  }
 },
 "nbformat": 4,
 "nbformat_minor": 5
}
