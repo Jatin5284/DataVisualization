{
 "cells": [
  {
   "cell_type": "code",
   "execution_count": 3,
   "id": "e12ca598-c336-48bd-9c26-bdcd9a5f11d2",
   "metadata": {},
   "outputs": [
    {
     "name": "stdout",
     "output_type": "stream",
     "text": [
      "[1 2]\n",
      "[3 4]\n",
      "[5 6]\n"
     ]
    }
   ],
   "source": [
    "import numpy as np\n",
    "\n",
    "arr=np.array([1,2,3,4,5,6])\n",
    "\n",
    "sub_arrays=np.split(arr,3)\n",
    "\n",
    "for sub in sub_arrays:\n",
    "    print(sub)\n",
    "\n"
   ]
  },
  {
   "cell_type": "code",
   "execution_count": 2,
   "id": "13721146-9a9d-480f-993b-13bea7ef4d30",
   "metadata": {},
   "outputs": [
    {
     "name": "stdout",
     "output_type": "stream",
     "text": [
      "Ascending <built-in function sorted>\n",
      "Descending [5 4 3 2 1]\n"
     ]
    }
   ],
   "source": [
    "import numpy as np\n",
    "arr=np.array([3,1,2,4,5])\n",
    "\n",
    "sorted_arr=np.sort(arr)\n",
    "print(\"Ascending\",sorted)\n",
    "\n",
    "sorted_arr1=np.sort(arr)[::-1]\n",
    "print(\"Descending\",sorted_arr1)"
   ]
  },
  {
   "cell_type": "code",
   "execution_count": 4,
   "id": "71d468ff-a7fa-47eb-acb0-6c7058af514f",
   "metadata": {},
   "outputs": [
    {
     "name": "stdout",
     "output_type": "stream",
     "text": [
      "Sorted Matrix [[1 2 3]\n",
      " [4 5 6]]\n"
     ]
    }
   ],
   "source": [
    "import numpy as np\n",
    "\n",
    "matrix=np.array([[3,1,2],[6,5,4]])\n",
    "sorted_matrix=np.sort(matrix,axis=1)\n",
    "print(\"Sorted Matrix\",sorted_matrix)"
   ]
  },
  {
   "cell_type": "code",
   "execution_count": 8,
   "id": "d01d6a4e-4276-4047-b8d5-7b0047af3e49",
   "metadata": {},
   "outputs": [
    {
     "name": "stdout",
     "output_type": "stream",
     "text": [
      "[[1 2 5 6]\n",
      " [3 4 7 8]]\n"
     ]
    }
   ],
   "source": [
    "arr1=np.array([[1,2],[3,4]])\n",
    "arr2=np.array([[5,6],[7,8]])\n",
    "result=np.concatenate((arr1,arr2),axis=1)\n",
    "print(result)"
   ]
  },
  {
   "cell_type": "code",
   "execution_count": 10,
   "id": "2ee2221d-2970-4f83-b65c-e7ef8a3a13ae",
   "metadata": {},
   "outputs": [
    {
     "name": "stdout",
     "output_type": "stream",
     "text": [
      "[[1 2]\n",
      " [3 4]\n",
      " [5 6]]\n"
     ]
    }
   ],
   "source": [
    "rr1=np.array([[1,2],[3,4]])\n",
    "arr2=np.array([[5,6]])\n",
    "result=np.concatenate((arr1,arr2),axis=0)\n",
    "print(result)"
   ]
  },
  {
   "cell_type": "code",
   "execution_count": 12,
   "id": "fda8b00f-d52e-4870-86f9-4abd82d8b8a6",
   "metadata": {},
   "outputs": [
    {
     "name": "stdout",
     "output_type": "stream",
     "text": [
      "[[1 2 3]\n",
      " [4 5 6]]\n"
     ]
    }
   ],
   "source": [
    "arr1=np.array([1,2,3])\n",
    "arr2=np.array([4,5,6])\n",
    "result=np.vstack((arr1,arr2))\n",
    "print(result)"
   ]
  },
  {
   "cell_type": "code",
   "execution_count": 13,
   "id": "10eaadda-e429-4cfd-9e40-7b58de50710d",
   "metadata": {},
   "outputs": [
    {
     "name": "stdout",
     "output_type": "stream",
     "text": [
      "[1 2 3 4 5 6]\n"
     ]
    }
   ],
   "source": [
    "arr1=np.array([1,2,3])\n",
    "arr2=np.array([4,5,6])\n",
    "result=np.hstack((arr1,arr2))\n",
    "print(result)"
   ]
  },
  {
   "cell_type": "code",
   "execution_count": 15,
   "id": "4adbf7e0-68ef-4121-aa7a-095a5b37f67a",
   "metadata": {},
   "outputs": [
    {
     "name": "stdout",
     "output_type": "stream",
     "text": [
      "Filtered Array: [4 5 6]\n"
     ]
    }
   ],
   "source": [
    "import numpy as np\n",
    "# Create a NumPy array\n",
    "arr = np.array([1, 2, 3, 4, 5, 6])\n",
    "# Create a boolean mask based on a condition (e.g., values greater than 3)\n",
    "mask = (arr > 3)\n",
    "# Use the mask to filter elements in the array\n",
    "filtered_array = arr[mask]\n",
    "# Print the filtered array\n",
    "print(\"Filtered Array:\", filtered_array)"
   ]
  },
  {
   "cell_type": "code",
   "execution_count": 18,
   "id": "af0075fe-250d-4f5a-8b00-f2fbe2af8e28",
   "metadata": {},
   "outputs": [
    {
     "name": "stdout",
     "output_type": "stream",
     "text": [
      "Varianc: 9.0\n",
      "SD 3.0\n"
     ]
    }
   ],
   "source": [
    "prd_b=np.array([2,8])\n",
    "prdB_var=np.var(prd_b)\n",
    "print(\"Varianc:\",prdB_var)\n",
    "print(\"SD\",np.std(prd_b))"
   ]
  },
  {
   "cell_type": "code",
   "execution_count": 24,
   "id": "b7454074-02a6-41af-8e3a-7f36992f114c",
   "metadata": {},
   "outputs": [
    {
     "name": "stdout",
     "output_type": "stream",
     "text": [
      "Mean of A 90.0\n",
      "Mean of B 86.0\n",
      "Var A 11.6\n",
      "Var B 114.0\n",
      "Class A Standard Deviation 3.40587727318528\n",
      "Class B Standard Deviation 10.677078252031311\n"
     ]
    }
   ],
   "source": [
    "classA= np.array([85, 88, 90, 92, 95])\n",
    "classB= np.array([70, 80, 85, 95, 100])\n",
    "print(\"Mean of A\",np.mean(classA))\n",
    "print(\"Mean of B\",np.mean(classB))\n",
    "print(\"Var A\",np.var(classA))\n",
    "print(\"Var B\",np.var(classB))\n",
    "classA_std=np.std(classA)\n",
    "classB_std=np.std(classB)\n",
    "print('Class A Standard Deviation',classA_std )\n",
    "print('Class B Standard Deviation',classB_std )"
   ]
  },
  {
   "cell_type": "code",
   "execution_count": 25,
   "id": "6f478418-4d66-4668-8e2a-56f8b6dce088",
   "metadata": {},
   "outputs": [
    {
     "name": "stdout",
     "output_type": "stream",
     "text": [
      "Median (50th Percentile): 108.0\n"
     ]
    }
   ],
   "source": [
    "test_scores = np.array([65, 75, 80, 85, 90, 92, 94, 95, 96, 98, 100, 102, 104, 106, 108,\n",
    "110, 112, 114, 116, 118, 120, 122, 124, 126, 128, 130, 132, 134, 136])\n",
    "median = np.percentile(test_scores, 50)\n",
    "print(\"Median (50th Percentile):\", median)"
   ]
  },
  {
   "cell_type": "code",
   "execution_count": 26,
   "id": "a843ff56-9b32-4003-a730-afbbc3dd0ad1",
   "metadata": {},
   "outputs": [
    {
     "name": "stdout",
     "output_type": "stream",
     "text": [
      "Lower Quartile (25th Percentile): 95.0\n"
     ]
    }
   ],
   "source": [
    "test_scores = np.array([65, 75, 80, 85, 90, 92, 94, 95, 96, 98, 100, 102, 104, 106, 108,\n",
    "110, 112, 114, 116, 118, 120, 122, 124, 126, 128, 130, 132, 134, 136])\n",
    "q1 = np.percentile(test_scores, 25)\n",
    "print(\"Lower Quartile (25th Percentile):\", q1)"
   ]
  },
  {
   "cell_type": "code",
   "execution_count": 27,
   "id": "3e7f5983-2460-41fb-9e86-1e00606b0169",
   "metadata": {},
   "outputs": [
    {
     "name": "stdout",
     "output_type": "stream",
     "text": [
      "Original Scores: [85 92 78 88 95 72 89]\n",
      "Loaded Scores: [85 92 78 88 95 72 89]\n"
     ]
    }
   ],
   "source": [
    "import numpy as np\n",
    "# Sample student scores\n",
    "scores = np.array([85, 92, 78, 88, 95, 72, 89])\n",
    "\n",
    "# Save the scores to a file\n",
    "np.save('student_scores.npy', scores)\n",
    "\n",
    "# Load the scores from the file\n",
    "loaded_scores = np.load('student_scores.npy')\n",
    "\n",
    "print(\"Original Scores:\", scores)\n",
    "print(\"Loaded Scores:\", loaded_scores)\n"
   ]
  },
  {
   "cell_type": "code",
   "execution_count": null,
   "id": "bb33a3df-57c5-411a-82c7-7460a13cfc98",
   "metadata": {},
   "outputs": [],
   "source": []
  }
 ],
 "metadata": {
  "kernelspec": {
   "display_name": "Python 3 (ipykernel)",
   "language": "python",
   "name": "python3"
  },
  "language_info": {
   "codemirror_mode": {
    "name": "ipython",
    "version": 3
   },
   "file_extension": ".py",
   "mimetype": "text/x-python",
   "name": "python",
   "nbconvert_exporter": "python",
   "pygments_lexer": "ipython3",
   "version": "3.12.3"
  }
 },
 "nbformat": 4,
 "nbformat_minor": 5
}
