{
 "cells": [
  {
   "cell_type": "code",
   "execution_count": 1,
   "id": "02c84800-d9ea-49d5-b921-9cbe05d31e53",
   "metadata": {},
   "outputs": [
    {
     "name": "stdout",
     "output_type": "stream",
     "text": [
      "The word 'India' occurs 3 times in the file.\n"
     ]
    }
   ],
   "source": [
    "# 1) Write a pprogram to count the occurrence of word \"INDIA\" in a text file india.txt\n",
    "file=open('india.txt', 'r')\n",
    "content = file.read()\n",
    "file.close()\n",
    "content_lower = content.lower()\n",
    "count = content_lower.count('india')\n",
    "print(f\"The word 'India' occurs {count} times in the file.\")\n"
   ]
  },
  {
   "cell_type": "code",
   "execution_count": 2,
   "id": "c7e0329f-7249-4465-9526-53889d81e503",
   "metadata": {},
   "outputs": [
    {
     "name": "stdout",
     "output_type": "stream",
     "text": [
      "Number of lines starting with 'T': 2\n",
      "The sun had barely risen when young Ethan set out on his grand adventure.\n",
      "The map he clutched in his hand was old and tattered, passed down\n"
     ]
    }
   ],
   "source": [
    "# 2) Write a program to count and display the lines starting with \"T\" in a text file \"story.txt\"\n",
    "file=open(\"story.txt\",'r')\n",
    "lines=file.readlines()\n",
    "file.close()\n",
    "count=0\n",
    "lines_starting_with_t = []\n",
    "for line in lines:\n",
    "    if line.startswith('T'):\n",
    "        count+=1\n",
    "        lines_starting_with_t.append(line.strip())\n",
    "    \n",
    "print(f\"Number of lines starting with 'T': {count}\")\n",
    "for line in lines_starting_with_t:\n",
    "    print(line)\n"
   ]
  },
  {
   "cell_type": "code",
   "execution_count": 3,
   "id": "76e5ebc5-2880-4713-b447-f0e437008301",
   "metadata": {},
   "outputs": [
    {
     "name": "stdout",
     "output_type": "stream",
     "text": [
      "Count the Vowels: 21\n",
      "Count the Consonants: 37\n"
     ]
    }
   ],
   "source": [
    "# 3) Write a program to count the number of vowels and consonants in a file \"Myfile.txt\"\n",
    "file=open(\"Myfile.txt\",'r')\n",
    "content=file.read()\n",
    "content=content.lower()\n",
    "vowel=0\n",
    "const=0\n",
    "vowels=['a','e','i','o','u']\n",
    "for letter in content:\n",
    "    if letter in vowels:\n",
    "        vowel+=1\n",
    "    else:\n",
    "        const+=1\n",
    "print(\"Count the Vowels:\",vowel)\n",
    "print(\"Count the Consonants:\",const)"
   ]
  },
  {
   "cell_type": "code",
   "execution_count": 4,
   "id": "5608e65d-5beb-4dff-ba44-728e712da12a",
   "metadata": {},
   "outputs": [
    {
     "name": "stdout",
     "output_type": "stream",
     "text": [
      "Count number of words start with i: 3\n",
      "Dislay words start with i: ['is', 'in', 'in']\n"
     ]
    }
   ],
   "source": [
    "# 4) Write a program to count and display number of words start with \"i\" in a file Word.txt\n",
    "file=open(\"Word.txt\",'r')\n",
    "content=file.read()\n",
    "file.close()\n",
    "content=content.lower()\n",
    "content=content.split()\n",
    "count=0\n",
    "words=[]\n",
    "for word in content:\n",
    "    if word.startswith('i'):\n",
    "        count+=1\n",
    "        words.append(word)\n",
    "print(\"Count number of words start with i:\",count)\n",
    "print(\"Dislay words start with i:\",words)\n",
    "\n"
   ]
  },
  {
   "cell_type": "code",
   "execution_count": 5,
   "id": "c3eb3ab6-c997-41ee-bdf7-0e5a67e64525",
   "metadata": {},
   "outputs": [
    {
     "name": "stdout",
     "output_type": "stream",
     "text": [
      "Eat one apple daily in your life.\n"
     ]
    }
   ],
   "source": [
    "# 5) Write a program to display the lines having more than five words in a text file Notes.txt\n",
    "file=open(\"Notes.txt\",'r')\n",
    "lines = file.readlines()\n",
    "file.close()\n",
    "\n",
    "for line in lines:\n",
    "    words = line.split()\n",
    "    # Check if the number of words is more than five\n",
    "    if len(words) > 5:\n",
    "        # Print the line\n",
    "        print(line.strip())"
   ]
  },
  {
   "cell_type": "code",
   "execution_count": 11,
   "id": "4ff0986f-3ff7-4e83-9f2a-4f5f4a8a6609",
   "metadata": {},
   "outputs": [],
   "source": [
    "# Create a binary file and write the data in it \n",
    "import pickle\n",
    "\n",
    "f=open(\"Stu.dat\",\"wb\")\n",
    "data=[[\"Rollno\",\"Name\",\"Marks\"],[1,\"Rahul\",10],[2,\"Ram\",20],[3,\"Rakesh\",30],[4,\"Rajesh\",40],[5,\"Ravi\",50]]\n",
    "pickle.dump(data,f)\n",
    "file.close()\n"
   ]
  },
  {
   "cell_type": "code",
   "execution_count": 12,
   "id": "f5d1e447-e411-447a-8675-10e8a2da2ea0",
   "metadata": {},
   "outputs": [
    {
     "name": "stdout",
     "output_type": "stream",
     "text": [
      "Rollno Name Marks\n",
      "1 Rahul 10\n",
      "2 Ram 20\n",
      "3 Rakesh 30\n",
      "4 Rajesh 40\n",
      "5 Ravi 50\n"
     ]
    }
   ],
   "source": [
    "# 6) Write a program to create a binary file \"Stu.dat\" and Enter the students rollno. Name and marks till the user want \n",
    "import pickle\n",
    "f=open(\"Stu.dat\",\"rb\")\n",
    "data=pickle.load(f)\n",
    "i=0\n",
    "while i<=5:\n",
    "    print(*data[i])\n",
    "    i+=1\n"
   ]
  },
  {
   "cell_type": "code",
   "execution_count": 14,
   "id": "02fdc810-250a-4c4f-b7a9-e75aad42caaa",
   "metadata": {},
   "outputs": [
    {
     "name": "stdout",
     "output_type": "stream",
     "text": [
      "Display the data whose marks>81\n",
      "Rollno Name Marks\n"
     ]
    }
   ],
   "source": [
    "# 7) Write a program to read a binary file \"Stu.dat\" and display the record of students having marks greater than 81\n",
    "import pickle\n",
    "f=open(\"Stu.dat\",'rb')\n",
    "data=pickle.load(f)\n",
    "file.close()\n",
    "print(\"Display the data whose marks>81\")\n",
    "print(\"Rollno Name Marks\")\n",
    "for val in data:\n",
    "    if (val[2]!=\"Marks\" and val[2]>81):\n",
    "        print(val[0],val[1],val[2])"
   ]
  },
  {
   "cell_type": "code",
   "execution_count": null,
   "id": "1a4583bf-35e9-4bd9-af68-68db05f8da8b",
   "metadata": {},
   "outputs": [],
   "source": []
  }
 ],
 "metadata": {
  "kernelspec": {
   "display_name": "Python 3 (ipykernel)",
   "language": "python",
   "name": "python3"
  },
  "language_info": {
   "codemirror_mode": {
    "name": "ipython",
    "version": 3
   },
   "file_extension": ".py",
   "mimetype": "text/x-python",
   "name": "python",
   "nbconvert_exporter": "python",
   "pygments_lexer": "ipython3",
   "version": "3.12.3"
  }
 },
 "nbformat": 4,
 "nbformat_minor": 5
}
